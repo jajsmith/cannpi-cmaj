{
 "cells": [
  {
   "cell_type": "code",
   "execution_count": 1,
   "metadata": {},
   "outputs": [],
   "source": [
    "import pandas as pd\n",
    "import numpy as np\n",
    "import matplotlib\n",
    "import matplotlib.pyplot as plt\n",
    "import matplotlib.patches as ptch\n",
    "\n",
    "from datetime import datetime\n",
    "import time\n",
    "from os import listdir\n",
    "from os.path import isfile, join\n",
    "import re\n",
    "\n",
    "plt.rcParams.update(plt.rcParamsDefault)"
   ]
  },
  {
   "cell_type": "markdown",
   "metadata": {},
   "source": [
    "# Non-Pharmaceutical Interventions in Canada\n",
    "\n",
    "Here we show comparisons of descriptive statistics for each regional and subregional-level dataset across Canada. Download individual region CSVs from the Google Sheet and place them in `./data/`. \n",
    "\n",
    "Stats Canada data on population size by province available from: \n",
    "\n",
    "Statistics Canada. Table 17-10-0009-01 Population estimates, quarterly\"\n",
    "https://www150.statcan.gc.ca/t1/tbl1/en/tv.action?pid=1710000901\n",
    "DOI: https://doi.org/10.25318/1710000901-eng\n"
   ]
  },
  {
   "cell_type": "code",
   "execution_count": 2,
   "metadata": {},
   "outputs": [],
   "source": [
    "stats_columns=[\n",
    "    'file',\n",
    "    'region',\n",
    "    'subregion', \n",
    "    'rows',\n",
    "    'columns',\n",
    "    'start_date.min', \n",
    "    'start_date.max', \n",
    "    'end_date.min', \n",
    "    'end_date.max', \n",
    "    'end_date.count / count', \n",
    "    'reviewer.unique', \n",
    "    'intervention_summary.unique', \n",
    "    'intervention_category.unique',\n",
    "    'target_population_category.unique',\n",
    "    'target_population_category (% not \"General\")',\n",
    "    'enforcement_category.unique',\n",
    "    'oxford_government_response_category.notna',\n",
    "    'oxford_government_response_category.unique',\n",
    "    'oxford_fiscal_measure_cad.sum',\n",
    "    'source_url.unique'\n",
    "]\n",
    "\n",
    "columns=[\n",
    "    'start_date',\n",
    "    'end_date',\n",
    "    'reviewer',\n",
    "    'country',\n",
    "    'region',\n",
    "    'subregion',\n",
    "    'intervention_summary',\n",
    "    'intervention_category',\n",
    "    'target_population_category',\n",
    "    'enforcement_category',\n",
    "    'oxford_government_response_category',\n",
    "    'oxford_closure_code',\n",
    "    'oxford_public_info_code',\n",
    "    'oxford_travel_code',\n",
    "    'oxford_geographic_target_code',\n",
    "    'oxford_fiscal_measure_cad',\n",
    "    'oxford_monetary_measure',\n",
    "    'oxford_testing_code',\n",
    "    'oxford_tracing_code',\n",
    "    'source_url',\n",
    "    'source_organization',\n",
    "    'source_organization_2',\n",
    "    'source_category',\n",
    "    'source_title',\n",
    "    'source_full_text',\n",
    "    'note'\n",
    "]"
   ]
  },
  {
   "cell_type": "code",
   "execution_count": 3,
   "metadata": {},
   "outputs": [
    {
     "data": {
      "text/html": [
       "<div>\n",
       "<style scoped>\n",
       "    .dataframe tbody tr th:only-of-type {\n",
       "        vertical-align: middle;\n",
       "    }\n",
       "\n",
       "    .dataframe tbody tr th {\n",
       "        vertical-align: top;\n",
       "    }\n",
       "\n",
       "    .dataframe thead th {\n",
       "        text-align: right;\n",
       "    }\n",
       "</style>\n",
       "<table border=\"1\" class=\"dataframe\">\n",
       "  <thead>\n",
       "    <tr style=\"text-align: right;\">\n",
       "      <th></th>\n",
       "      <th>region</th>\n",
       "      <th>population_q1_2020</th>\n",
       "    </tr>\n",
       "  </thead>\n",
       "  <tbody>\n",
       "    <tr>\n",
       "      <th>0</th>\n",
       "      <td>Canada</td>\n",
       "      <td>37894799</td>\n",
       "    </tr>\n",
       "    <tr>\n",
       "      <th>1</th>\n",
       "      <td>Newfoundland and Labrador</td>\n",
       "      <td>521365</td>\n",
       "    </tr>\n",
       "    <tr>\n",
       "      <th>2</th>\n",
       "      <td>Prince Edward Island</td>\n",
       "      <td>158158</td>\n",
       "    </tr>\n",
       "    <tr>\n",
       "      <th>3</th>\n",
       "      <td>Nova Scotia</td>\n",
       "      <td>977457</td>\n",
       "    </tr>\n",
       "    <tr>\n",
       "      <th>4</th>\n",
       "      <td>New Brunswick</td>\n",
       "      <td>779993</td>\n",
       "    </tr>\n",
       "    <tr>\n",
       "      <th>5</th>\n",
       "      <td>Quebec</td>\n",
       "      <td>8537674</td>\n",
       "    </tr>\n",
       "    <tr>\n",
       "      <th>6</th>\n",
       "      <td>Ontario</td>\n",
       "      <td>14711827</td>\n",
       "    </tr>\n",
       "    <tr>\n",
       "      <th>7</th>\n",
       "      <td>Manitoba</td>\n",
       "      <td>1377517</td>\n",
       "    </tr>\n",
       "    <tr>\n",
       "      <th>8</th>\n",
       "      <td>Saskatchewan</td>\n",
       "      <td>1181666</td>\n",
       "    </tr>\n",
       "    <tr>\n",
       "      <th>9</th>\n",
       "      <td>Alberta</td>\n",
       "      <td>4413146</td>\n",
       "    </tr>\n",
       "    <tr>\n",
       "      <th>10</th>\n",
       "      <td>British Columbia</td>\n",
       "      <td>5110917</td>\n",
       "    </tr>\n",
       "    <tr>\n",
       "      <th>11</th>\n",
       "      <td>Yukon</td>\n",
       "      <td>41078</td>\n",
       "    </tr>\n",
       "    <tr>\n",
       "      <th>12</th>\n",
       "      <td>Northwest Territories</td>\n",
       "      <td>44904</td>\n",
       "    </tr>\n",
       "    <tr>\n",
       "      <th>13</th>\n",
       "      <td>Nunavut</td>\n",
       "      <td>39097</td>\n",
       "    </tr>\n",
       "  </tbody>\n",
       "</table>\n",
       "</div>"
      ],
      "text/plain": [
       "                       region  population_q1_2020\n",
       "0                      Canada            37894799\n",
       "1   Newfoundland and Labrador              521365\n",
       "2        Prince Edward Island              158158\n",
       "3                 Nova Scotia              977457\n",
       "4               New Brunswick              779993\n",
       "5                      Quebec             8537674\n",
       "6                     Ontario            14711827\n",
       "7                    Manitoba             1377517\n",
       "8                Saskatchewan             1181666\n",
       "9                     Alberta             4413146\n",
       "10           British Columbia             5110917\n",
       "11                      Yukon               41078\n",
       "12      Northwest Territories               44904\n",
       "13                    Nunavut               39097"
      ]
     },
     "execution_count": 3,
     "metadata": {},
     "output_type": "execute_result"
    }
   ],
   "source": [
    "population_df = pd.read_csv('data/statscan-population-q.csv', thousands=',')\n",
    "population_df[['Geography', 'Q1 2020']]\n",
    "population_df['region'] = population_df['Geography']\n",
    "population_df['population_q1_2020'] = pd.to_numeric(population_df['Q1 2020'])\n",
    "population_df = population_df[['region', 'population_q1_2020']]\n",
    "population_df"
   ]
  },
  {
   "cell_type": "code",
   "execution_count": 4,
   "metadata": {},
   "outputs": [
    {
     "data": {
      "text/plain": [
       "(2517, 26)"
      ]
     },
     "execution_count": 4,
     "metadata": {},
     "output_type": "execute_result"
    }
   ],
   "source": [
    "full_df = pd.read_csv('data/npi_canada_apr19.csv')\n",
    "full_df['start_date'] = pd.to_datetime(full_df['start_date'])\n",
    "full_df['end_date'] = pd.to_datetime(full_df['end_date'])\n",
    "full_df.shape"
   ]
  },
  {
   "cell_type": "code",
   "execution_count": 5,
   "metadata": {},
   "outputs": [],
   "source": [
    "provinces_df = full_df[full_df['subregion'].isna() & full_df['region'].notna() & (full_df['region'] != \"All\")]\n",
    "federal_df = full_df[full_df['subregion'].isna() & (full_df['region'].isna() | (full_df['region'] == \"All\"))]"
   ]
  },
  {
   "cell_type": "code",
   "execution_count": 6,
   "metadata": {},
   "outputs": [
    {
     "data": {
      "text/plain": [
       "(2517, 26)"
      ]
     },
     "execution_count": 6,
     "metadata": {},
     "output_type": "execute_result"
    }
   ],
   "source": [
    "full_df.shape"
   ]
  },
  {
   "cell_type": "code",
   "execution_count": 7,
   "metadata": {},
   "outputs": [
    {
     "data": {
      "text/plain": [
       "(1288, 26)"
      ]
     },
     "execution_count": 7,
     "metadata": {},
     "output_type": "execute_result"
    }
   ],
   "source": [
    "provinces_df.shape"
   ]
  },
  {
   "cell_type": "code",
   "execution_count": 9,
   "metadata": {},
   "outputs": [
    {
     "data": {
      "text/plain": [
       "(67, 26)"
      ]
     },
     "execution_count": 9,
     "metadata": {},
     "output_type": "execute_result"
    }
   ],
   "source": [
    "federal_df.shape"
   ]
  },
  {
   "cell_type": "markdown",
   "metadata": {},
   "source": [
    "# Descriptive Statistics for Paper"
   ]
  },
  {
   "cell_type": "code",
   "execution_count": 10,
   "metadata": {},
   "outputs": [
    {
     "name": "stdout",
     "output_type": "stream",
     "text": [
      "Number of interventions recorded:  2517\n"
     ]
    }
   ],
   "source": [
    "print(\"Number of interventions recorded: \", full_df.shape[0])"
   ]
  },
  {
   "cell_type": "code",
   "execution_count": 11,
   "metadata": {},
   "outputs": [
    {
     "name": "stdout",
     "output_type": "stream",
     "text": [
      "Number of oxford interventions recorded:  1269\n"
     ]
    }
   ],
   "source": [
    "print(\"Number of oxford interventions recorded: \", full_df['oxford_government_response_category'].count())"
   ]
  },
  {
   "cell_type": "code",
   "execution_count": 12,
   "metadata": {},
   "outputs": [
    {
     "name": "stdout",
     "output_type": "stream",
     "text": [
      "Number of oxford interventions in Stringency Index recorded (S1-S7):  920\n"
     ]
    }
   ],
   "source": [
    "n = full_df[~full_df['oxford_government_response_category'].isin(['S8 Fiscal measures', 'S9 Monetary measures (interest rate)', 'S10 Emergency investment in health care', 'S11 Investment in vaccines', 'S12 Testing policy', 'S13 Contact tracing'])]['oxford_government_response_category'].count()\n",
    "print(\"Number of oxford interventions in Stringency Index recorded (S1-S7): \", n)"
   ]
  },
  {
   "cell_type": "code",
   "execution_count": 13,
   "metadata": {},
   "outputs": [
    {
     "data": {
      "text/plain": [
       "0.3655145013905443"
      ]
     },
     "execution_count": 13,
     "metadata": {},
     "output_type": "execute_result"
    }
   ],
   "source": [
    "n / full_df.shape[0]"
   ]
  },
  {
   "cell_type": "code",
   "execution_count": 14,
   "metadata": {},
   "outputs": [
    {
     "name": "stdout",
     "output_type": "stream",
     "text": [
      "Number of unique source urls:  1443\n"
     ]
    }
   ],
   "source": [
    "print(\"Number of unique source urls: \", len(full_df['source_url'].unique()))"
   ]
  },
  {
   "cell_type": "code",
   "execution_count": 15,
   "metadata": {},
   "outputs": [
    {
     "name": "stdout",
     "output_type": "stream",
     "text": [
      "Number of unique primary source organizations:  241\n"
     ]
    }
   ],
   "source": [
    "print(\"Number of unique primary source organizations: \", len(full_df['source_organization'].unique()))"
   ]
  },
  {
   "cell_type": "code",
   "execution_count": 16,
   "metadata": {},
   "outputs": [
    {
     "name": "stdout",
     "output_type": "stream",
     "text": [
      "% of interventions with oxford classifications:  0.5112812248186946\n"
     ]
    }
   ],
   "source": [
    "oxford_ratio = full_df['oxford_government_response_category'].count() / full_df['intervention_category'].count()\n",
    "print(\"% of interventions with oxford classifications: \", oxford_ratio)\n",
    "\n"
   ]
  },
  {
   "cell_type": "code",
   "execution_count": 17,
   "metadata": {},
   "outputs": [
    {
     "name": "stderr",
     "output_type": "stream",
     "text": [
      "/usr/local/lib/python3.6/dist-packages/pandas/core/groupby.py:3406: FutureWarning: In the future, NAT != NAT will be True rather than False.\n",
      "  inc = np.r_[1, val[1:] != val[:-1]]\n"
     ]
    },
    {
     "data": {
      "text/html": [
       "<div>\n",
       "<style scoped>\n",
       "    .dataframe tbody tr th:only-of-type {\n",
       "        vertical-align: middle;\n",
       "    }\n",
       "\n",
       "    .dataframe tbody tr th {\n",
       "        vertical-align: top;\n",
       "    }\n",
       "\n",
       "    .dataframe thead th {\n",
       "        text-align: right;\n",
       "    }\n",
       "</style>\n",
       "<table border=\"1\" class=\"dataframe\">\n",
       "  <thead>\n",
       "    <tr style=\"text-align: right;\">\n",
       "      <th></th>\n",
       "      <th>start_date</th>\n",
       "      <th>end_date</th>\n",
       "      <th>country</th>\n",
       "      <th>region</th>\n",
       "      <th>subregion</th>\n",
       "      <th>target_population_category</th>\n",
       "      <th>enforcement_category</th>\n",
       "      <th>oxford_government_response_category</th>\n",
       "      <th>source_url</th>\n",
       "      <th>source_organization</th>\n",
       "      <th>source_organization_2</th>\n",
       "      <th>source_category</th>\n",
       "    </tr>\n",
       "    <tr>\n",
       "      <th>intervention_category</th>\n",
       "      <th></th>\n",
       "      <th></th>\n",
       "      <th></th>\n",
       "      <th></th>\n",
       "      <th></th>\n",
       "      <th></th>\n",
       "      <th></th>\n",
       "      <th></th>\n",
       "      <th></th>\n",
       "      <th></th>\n",
       "      <th></th>\n",
       "      <th></th>\n",
       "    </tr>\n",
       "  </thead>\n",
       "  <tbody>\n",
       "    <tr>\n",
       "      <th>Administrative flexibility</th>\n",
       "      <td>27</td>\n",
       "      <td>6</td>\n",
       "      <td>2</td>\n",
       "      <td>12</td>\n",
       "      <td>16</td>\n",
       "      <td>8</td>\n",
       "      <td>3</td>\n",
       "      <td>4</td>\n",
       "      <td>68</td>\n",
       "      <td>42</td>\n",
       "      <td>7</td>\n",
       "      <td>3</td>\n",
       "    </tr>\n",
       "    <tr>\n",
       "      <th>Border closure</th>\n",
       "      <td>6</td>\n",
       "      <td>0</td>\n",
       "      <td>1</td>\n",
       "      <td>6</td>\n",
       "      <td>0</td>\n",
       "      <td>2</td>\n",
       "      <td>3</td>\n",
       "      <td>2</td>\n",
       "      <td>6</td>\n",
       "      <td>6</td>\n",
       "      <td>0</td>\n",
       "      <td>2</td>\n",
       "    </tr>\n",
       "    <tr>\n",
       "      <th>Case Definition Change</th>\n",
       "      <td>3</td>\n",
       "      <td>0</td>\n",
       "      <td>1</td>\n",
       "      <td>2</td>\n",
       "      <td>1</td>\n",
       "      <td>1</td>\n",
       "      <td>1</td>\n",
       "      <td>0</td>\n",
       "      <td>3</td>\n",
       "      <td>3</td>\n",
       "      <td>0</td>\n",
       "      <td>1</td>\n",
       "    </tr>\n",
       "    <tr>\n",
       "      <th>Correctional facility restrictions</th>\n",
       "      <td>12</td>\n",
       "      <td>0</td>\n",
       "      <td>1</td>\n",
       "      <td>7</td>\n",
       "      <td>0</td>\n",
       "      <td>2</td>\n",
       "      <td>2</td>\n",
       "      <td>2</td>\n",
       "      <td>12</td>\n",
       "      <td>7</td>\n",
       "      <td>1</td>\n",
       "      <td>1</td>\n",
       "    </tr>\n",
       "    <tr>\n",
       "      <th>Court closure</th>\n",
       "      <td>10</td>\n",
       "      <td>2</td>\n",
       "      <td>1</td>\n",
       "      <td>8</td>\n",
       "      <td>7</td>\n",
       "      <td>1</td>\n",
       "      <td>2</td>\n",
       "      <td>2</td>\n",
       "      <td>20</td>\n",
       "      <td>16</td>\n",
       "      <td>2</td>\n",
       "      <td>1</td>\n",
       "    </tr>\n",
       "    <tr>\n",
       "      <th>Creation of command center</th>\n",
       "      <td>24</td>\n",
       "      <td>1</td>\n",
       "      <td>1</td>\n",
       "      <td>9</td>\n",
       "      <td>9</td>\n",
       "      <td>4</td>\n",
       "      <td>1</td>\n",
       "      <td>1</td>\n",
       "      <td>29</td>\n",
       "      <td>20</td>\n",
       "      <td>1</td>\n",
       "      <td>1</td>\n",
       "    </tr>\n",
       "    <tr>\n",
       "      <th>Declaration of emergency (or similar)</th>\n",
       "      <td>27</td>\n",
       "      <td>15</td>\n",
       "      <td>1</td>\n",
       "      <td>13</td>\n",
       "      <td>16</td>\n",
       "      <td>3</td>\n",
       "      <td>3</td>\n",
       "      <td>3</td>\n",
       "      <td>53</td>\n",
       "      <td>30</td>\n",
       "      <td>1</td>\n",
       "      <td>2</td>\n",
       "    </tr>\n",
       "    <tr>\n",
       "      <th>Disclosed Case Reporting Change</th>\n",
       "      <td>3</td>\n",
       "      <td>0</td>\n",
       "      <td>1</td>\n",
       "      <td>2</td>\n",
       "      <td>0</td>\n",
       "      <td>1</td>\n",
       "      <td>1</td>\n",
       "      <td>1</td>\n",
       "      <td>2</td>\n",
       "      <td>2</td>\n",
       "      <td>0</td>\n",
       "      <td>1</td>\n",
       "    </tr>\n",
       "    <tr>\n",
       "      <th>Education or Work from Home</th>\n",
       "      <td>16</td>\n",
       "      <td>0</td>\n",
       "      <td>1</td>\n",
       "      <td>12</td>\n",
       "      <td>5</td>\n",
       "      <td>5</td>\n",
       "      <td>1</td>\n",
       "      <td>4</td>\n",
       "      <td>27</td>\n",
       "      <td>20</td>\n",
       "      <td>3</td>\n",
       "      <td>2</td>\n",
       "    </tr>\n",
       "    <tr>\n",
       "      <th>Electoral poll cancelation</th>\n",
       "      <td>5</td>\n",
       "      <td>0</td>\n",
       "      <td>1</td>\n",
       "      <td>4</td>\n",
       "      <td>2</td>\n",
       "      <td>1</td>\n",
       "      <td>2</td>\n",
       "      <td>2</td>\n",
       "      <td>6</td>\n",
       "      <td>5</td>\n",
       "      <td>1</td>\n",
       "      <td>1</td>\n",
       "    </tr>\n",
       "    <tr>\n",
       "      <th>Emergency economic funding</th>\n",
       "      <td>31</td>\n",
       "      <td>20</td>\n",
       "      <td>1</td>\n",
       "      <td>14</td>\n",
       "      <td>13</td>\n",
       "      <td>9</td>\n",
       "      <td>1</td>\n",
       "      <td>3</td>\n",
       "      <td>120</td>\n",
       "      <td>47</td>\n",
       "      <td>15</td>\n",
       "      <td>2</td>\n",
       "    </tr>\n",
       "    <tr>\n",
       "      <th>Emergency healthcare funding</th>\n",
       "      <td>29</td>\n",
       "      <td>4</td>\n",
       "      <td>1</td>\n",
       "      <td>10</td>\n",
       "      <td>3</td>\n",
       "      <td>9</td>\n",
       "      <td>1</td>\n",
       "      <td>3</td>\n",
       "      <td>55</td>\n",
       "      <td>31</td>\n",
       "      <td>9</td>\n",
       "      <td>2</td>\n",
       "    </tr>\n",
       "    <tr>\n",
       "      <th>Emergency research funding</th>\n",
       "      <td>5</td>\n",
       "      <td>1</td>\n",
       "      <td>1</td>\n",
       "      <td>3</td>\n",
       "      <td>0</td>\n",
       "      <td>1</td>\n",
       "      <td>1</td>\n",
       "      <td>2</td>\n",
       "      <td>5</td>\n",
       "      <td>3</td>\n",
       "      <td>1</td>\n",
       "      <td>1</td>\n",
       "    </tr>\n",
       "    <tr>\n",
       "      <th>Emergency social services funding</th>\n",
       "      <td>26</td>\n",
       "      <td>2</td>\n",
       "      <td>1</td>\n",
       "      <td>14</td>\n",
       "      <td>13</td>\n",
       "      <td>10</td>\n",
       "      <td>1</td>\n",
       "      <td>3</td>\n",
       "      <td>74</td>\n",
       "      <td>62</td>\n",
       "      <td>10</td>\n",
       "      <td>2</td>\n",
       "    </tr>\n",
       "    <tr>\n",
       "      <th>Employment Protections</th>\n",
       "      <td>18</td>\n",
       "      <td>2</td>\n",
       "      <td>1</td>\n",
       "      <td>13</td>\n",
       "      <td>3</td>\n",
       "      <td>7</td>\n",
       "      <td>1</td>\n",
       "      <td>2</td>\n",
       "      <td>29</td>\n",
       "      <td>20</td>\n",
       "      <td>3</td>\n",
       "      <td>2</td>\n",
       "    </tr>\n",
       "    <tr>\n",
       "      <th>First case announcement</th>\n",
       "      <td>15</td>\n",
       "      <td>0</td>\n",
       "      <td>1</td>\n",
       "      <td>12</td>\n",
       "      <td>10</td>\n",
       "      <td>3</td>\n",
       "      <td>1</td>\n",
       "      <td>1</td>\n",
       "      <td>26</td>\n",
       "      <td>22</td>\n",
       "      <td>1</td>\n",
       "      <td>2</td>\n",
       "    </tr>\n",
       "    <tr>\n",
       "      <th>First case resolution announcement</th>\n",
       "      <td>3</td>\n",
       "      <td>0</td>\n",
       "      <td>1</td>\n",
       "      <td>3</td>\n",
       "      <td>1</td>\n",
       "      <td>1</td>\n",
       "      <td>1</td>\n",
       "      <td>1</td>\n",
       "      <td>3</td>\n",
       "      <td>3</td>\n",
       "      <td>0</td>\n",
       "      <td>1</td>\n",
       "    </tr>\n",
       "    <tr>\n",
       "      <th>First death announcement</th>\n",
       "      <td>16</td>\n",
       "      <td>0</td>\n",
       "      <td>1</td>\n",
       "      <td>9</td>\n",
       "      <td>9</td>\n",
       "      <td>2</td>\n",
       "      <td>1</td>\n",
       "      <td>1</td>\n",
       "      <td>18</td>\n",
       "      <td>16</td>\n",
       "      <td>2</td>\n",
       "      <td>2</td>\n",
       "    </tr>\n",
       "    <tr>\n",
       "      <th>First multiple case announcement</th>\n",
       "      <td>7</td>\n",
       "      <td>0</td>\n",
       "      <td>1</td>\n",
       "      <td>4</td>\n",
       "      <td>3</td>\n",
       "      <td>1</td>\n",
       "      <td>1</td>\n",
       "      <td>1</td>\n",
       "      <td>7</td>\n",
       "      <td>7</td>\n",
       "      <td>0</td>\n",
       "      <td>2</td>\n",
       "    </tr>\n",
       "    <tr>\n",
       "      <th>General case announcement</th>\n",
       "      <td>57</td>\n",
       "      <td>0</td>\n",
       "      <td>1</td>\n",
       "      <td>12</td>\n",
       "      <td>8</td>\n",
       "      <td>5</td>\n",
       "      <td>1</td>\n",
       "      <td>2</td>\n",
       "      <td>203</td>\n",
       "      <td>28</td>\n",
       "      <td>2</td>\n",
       "      <td>3</td>\n",
       "    </tr>\n",
       "    <tr>\n",
       "      <th>Government building closure</th>\n",
       "      <td>20</td>\n",
       "      <td>5</td>\n",
       "      <td>1</td>\n",
       "      <td>10</td>\n",
       "      <td>15</td>\n",
       "      <td>3</td>\n",
       "      <td>2</td>\n",
       "      <td>3</td>\n",
       "      <td>45</td>\n",
       "      <td>29</td>\n",
       "      <td>2</td>\n",
       "      <td>1</td>\n",
       "    </tr>\n",
       "    <tr>\n",
       "      <th>Government-monitored lockdown</th>\n",
       "      <td>1</td>\n",
       "      <td>0</td>\n",
       "      <td>1</td>\n",
       "      <td>1</td>\n",
       "      <td>0</td>\n",
       "      <td>1</td>\n",
       "      <td>1</td>\n",
       "      <td>0</td>\n",
       "      <td>1</td>\n",
       "      <td>1</td>\n",
       "      <td>0</td>\n",
       "      <td>1</td>\n",
       "    </tr>\n",
       "    <tr>\n",
       "      <th>Government-monitored quarantine</th>\n",
       "      <td>5</td>\n",
       "      <td>1</td>\n",
       "      <td>1</td>\n",
       "      <td>5</td>\n",
       "      <td>2</td>\n",
       "      <td>2</td>\n",
       "      <td>3</td>\n",
       "      <td>2</td>\n",
       "      <td>5</td>\n",
       "      <td>5</td>\n",
       "      <td>0</td>\n",
       "      <td>2</td>\n",
       "    </tr>\n",
       "    <tr>\n",
       "      <th>Government-sponsored isolation facility</th>\n",
       "      <td>10</td>\n",
       "      <td>0</td>\n",
       "      <td>1</td>\n",
       "      <td>4</td>\n",
       "      <td>2</td>\n",
       "      <td>4</td>\n",
       "      <td>2</td>\n",
       "      <td>1</td>\n",
       "      <td>11</td>\n",
       "      <td>7</td>\n",
       "      <td>3</td>\n",
       "      <td>2</td>\n",
       "    </tr>\n",
       "    <tr>\n",
       "      <th>Health workforce task-shifting</th>\n",
       "      <td>24</td>\n",
       "      <td>1</td>\n",
       "      <td>1</td>\n",
       "      <td>10</td>\n",
       "      <td>4</td>\n",
       "      <td>5</td>\n",
       "      <td>3</td>\n",
       "      <td>5</td>\n",
       "      <td>35</td>\n",
       "      <td>18</td>\n",
       "      <td>2</td>\n",
       "      <td>2</td>\n",
       "    </tr>\n",
       "    <tr>\n",
       "      <th>Healthcare facility restrictions</th>\n",
       "      <td>30</td>\n",
       "      <td>0</td>\n",
       "      <td>1</td>\n",
       "      <td>12</td>\n",
       "      <td>12</td>\n",
       "      <td>6</td>\n",
       "      <td>4</td>\n",
       "      <td>6</td>\n",
       "      <td>61</td>\n",
       "      <td>29</td>\n",
       "      <td>4</td>\n",
       "      <td>3</td>\n",
       "    </tr>\n",
       "    <tr>\n",
       "      <th>Improve testing capacity</th>\n",
       "      <td>28</td>\n",
       "      <td>0</td>\n",
       "      <td>1</td>\n",
       "      <td>11</td>\n",
       "      <td>12</td>\n",
       "      <td>6</td>\n",
       "      <td>1</td>\n",
       "      <td>3</td>\n",
       "      <td>41</td>\n",
       "      <td>24</td>\n",
       "      <td>4</td>\n",
       "      <td>2</td>\n",
       "    </tr>\n",
       "    <tr>\n",
       "      <th>Increased sanitation measures</th>\n",
       "      <td>24</td>\n",
       "      <td>0</td>\n",
       "      <td>1</td>\n",
       "      <td>11</td>\n",
       "      <td>12</td>\n",
       "      <td>7</td>\n",
       "      <td>2</td>\n",
       "      <td>3</td>\n",
       "      <td>31</td>\n",
       "      <td>24</td>\n",
       "      <td>8</td>\n",
       "      <td>2</td>\n",
       "    </tr>\n",
       "    <tr>\n",
       "      <th>Manufacturing repurposing</th>\n",
       "      <td>16</td>\n",
       "      <td>0</td>\n",
       "      <td>1</td>\n",
       "      <td>5</td>\n",
       "      <td>2</td>\n",
       "      <td>3</td>\n",
       "      <td>1</td>\n",
       "      <td>1</td>\n",
       "      <td>18</td>\n",
       "      <td>13</td>\n",
       "      <td>1</td>\n",
       "      <td>2</td>\n",
       "    </tr>\n",
       "    <tr>\n",
       "      <th>Non-essential workplace closure</th>\n",
       "      <td>26</td>\n",
       "      <td>13</td>\n",
       "      <td>1</td>\n",
       "      <td>13</td>\n",
       "      <td>13</td>\n",
       "      <td>7</td>\n",
       "      <td>4</td>\n",
       "      <td>5</td>\n",
       "      <td>65</td>\n",
       "      <td>34</td>\n",
       "      <td>4</td>\n",
       "      <td>3</td>\n",
       "    </tr>\n",
       "    <tr>\n",
       "      <th>...</th>\n",
       "      <td>...</td>\n",
       "      <td>...</td>\n",
       "      <td>...</td>\n",
       "      <td>...</td>\n",
       "      <td>...</td>\n",
       "      <td>...</td>\n",
       "      <td>...</td>\n",
       "      <td>...</td>\n",
       "      <td>...</td>\n",
       "      <td>...</td>\n",
       "      <td>...</td>\n",
       "      <td>...</td>\n",
       "    </tr>\n",
       "    <tr>\n",
       "      <th>Public Reassurance</th>\n",
       "      <td>31</td>\n",
       "      <td>0</td>\n",
       "      <td>1</td>\n",
       "      <td>12</td>\n",
       "      <td>6</td>\n",
       "      <td>5</td>\n",
       "      <td>1</td>\n",
       "      <td>6</td>\n",
       "      <td>47</td>\n",
       "      <td>29</td>\n",
       "      <td>1</td>\n",
       "      <td>3</td>\n",
       "    </tr>\n",
       "    <tr>\n",
       "      <th>Public event size restriction (&lt;=10)</th>\n",
       "      <td>9</td>\n",
       "      <td>2</td>\n",
       "      <td>1</td>\n",
       "      <td>6</td>\n",
       "      <td>2</td>\n",
       "      <td>1</td>\n",
       "      <td>3</td>\n",
       "      <td>1</td>\n",
       "      <td>10</td>\n",
       "      <td>9</td>\n",
       "      <td>0</td>\n",
       "      <td>1</td>\n",
       "    </tr>\n",
       "    <tr>\n",
       "      <th>Public event size restriction (&lt;=2)</th>\n",
       "      <td>2</td>\n",
       "      <td>0</td>\n",
       "      <td>1</td>\n",
       "      <td>3</td>\n",
       "      <td>1</td>\n",
       "      <td>1</td>\n",
       "      <td>2</td>\n",
       "      <td>1</td>\n",
       "      <td>3</td>\n",
       "      <td>3</td>\n",
       "      <td>0</td>\n",
       "      <td>2</td>\n",
       "    </tr>\n",
       "    <tr>\n",
       "      <th>Public event size restriction (&lt;=25)</th>\n",
       "      <td>3</td>\n",
       "      <td>0</td>\n",
       "      <td>1</td>\n",
       "      <td>3</td>\n",
       "      <td>1</td>\n",
       "      <td>1</td>\n",
       "      <td>3</td>\n",
       "      <td>1</td>\n",
       "      <td>4</td>\n",
       "      <td>4</td>\n",
       "      <td>0</td>\n",
       "      <td>1</td>\n",
       "    </tr>\n",
       "    <tr>\n",
       "      <th>Public event size restriction (&lt;=250)</th>\n",
       "      <td>5</td>\n",
       "      <td>2</td>\n",
       "      <td>1</td>\n",
       "      <td>7</td>\n",
       "      <td>7</td>\n",
       "      <td>1</td>\n",
       "      <td>3</td>\n",
       "      <td>1</td>\n",
       "      <td>16</td>\n",
       "      <td>12</td>\n",
       "      <td>1</td>\n",
       "      <td>1</td>\n",
       "    </tr>\n",
       "    <tr>\n",
       "      <th>Public event size restriction (&lt;=5)</th>\n",
       "      <td>7</td>\n",
       "      <td>2</td>\n",
       "      <td>1</td>\n",
       "      <td>3</td>\n",
       "      <td>7</td>\n",
       "      <td>1</td>\n",
       "      <td>3</td>\n",
       "      <td>2</td>\n",
       "      <td>9</td>\n",
       "      <td>9</td>\n",
       "      <td>0</td>\n",
       "      <td>1</td>\n",
       "    </tr>\n",
       "    <tr>\n",
       "      <th>Public event size restriction (&lt;=50)</th>\n",
       "      <td>4</td>\n",
       "      <td>2</td>\n",
       "      <td>1</td>\n",
       "      <td>9</td>\n",
       "      <td>6</td>\n",
       "      <td>1</td>\n",
       "      <td>3</td>\n",
       "      <td>1</td>\n",
       "      <td>18</td>\n",
       "      <td>15</td>\n",
       "      <td>0</td>\n",
       "      <td>2</td>\n",
       "    </tr>\n",
       "    <tr>\n",
       "      <th>Public event/ meeting cancellation or postponement</th>\n",
       "      <td>28</td>\n",
       "      <td>8</td>\n",
       "      <td>1</td>\n",
       "      <td>10</td>\n",
       "      <td>19</td>\n",
       "      <td>5</td>\n",
       "      <td>2</td>\n",
       "      <td>3</td>\n",
       "      <td>66</td>\n",
       "      <td>38</td>\n",
       "      <td>4</td>\n",
       "      <td>3</td>\n",
       "    </tr>\n",
       "    <tr>\n",
       "      <th>Public park closure</th>\n",
       "      <td>24</td>\n",
       "      <td>7</td>\n",
       "      <td>2</td>\n",
       "      <td>11</td>\n",
       "      <td>17</td>\n",
       "      <td>1</td>\n",
       "      <td>4</td>\n",
       "      <td>4</td>\n",
       "      <td>48</td>\n",
       "      <td>33</td>\n",
       "      <td>3</td>\n",
       "      <td>2</td>\n",
       "    </tr>\n",
       "    <tr>\n",
       "      <th>Public park restrictions</th>\n",
       "      <td>16</td>\n",
       "      <td>0</td>\n",
       "      <td>2</td>\n",
       "      <td>6</td>\n",
       "      <td>11</td>\n",
       "      <td>1</td>\n",
       "      <td>3</td>\n",
       "      <td>4</td>\n",
       "      <td>23</td>\n",
       "      <td>19</td>\n",
       "      <td>3</td>\n",
       "      <td>3</td>\n",
       "    </tr>\n",
       "    <tr>\n",
       "      <th>Public transit route reduction</th>\n",
       "      <td>9</td>\n",
       "      <td>0</td>\n",
       "      <td>1</td>\n",
       "      <td>7</td>\n",
       "      <td>8</td>\n",
       "      <td>1</td>\n",
       "      <td>2</td>\n",
       "      <td>2</td>\n",
       "      <td>9</td>\n",
       "      <td>8</td>\n",
       "      <td>1</td>\n",
       "      <td>2</td>\n",
       "    </tr>\n",
       "    <tr>\n",
       "      <th>Recommended self-isolation</th>\n",
       "      <td>28</td>\n",
       "      <td>2</td>\n",
       "      <td>1</td>\n",
       "      <td>11</td>\n",
       "      <td>7</td>\n",
       "      <td>6</td>\n",
       "      <td>2</td>\n",
       "      <td>4</td>\n",
       "      <td>58</td>\n",
       "      <td>21</td>\n",
       "      <td>2</td>\n",
       "      <td>3</td>\n",
       "    </tr>\n",
       "    <tr>\n",
       "      <th>Recreational / Entertainment Facility Closure</th>\n",
       "      <td>23</td>\n",
       "      <td>6</td>\n",
       "      <td>1</td>\n",
       "      <td>13</td>\n",
       "      <td>18</td>\n",
       "      <td>2</td>\n",
       "      <td>3</td>\n",
       "      <td>4</td>\n",
       "      <td>57</td>\n",
       "      <td>38</td>\n",
       "      <td>1</td>\n",
       "      <td>3</td>\n",
       "    </tr>\n",
       "    <tr>\n",
       "      <th>Restaurant Closure</th>\n",
       "      <td>1</td>\n",
       "      <td>0</td>\n",
       "      <td>1</td>\n",
       "      <td>1</td>\n",
       "      <td>1</td>\n",
       "      <td>1</td>\n",
       "      <td>1</td>\n",
       "      <td>1</td>\n",
       "      <td>1</td>\n",
       "      <td>1</td>\n",
       "      <td>0</td>\n",
       "      <td>1</td>\n",
       "    </tr>\n",
       "    <tr>\n",
       "      <th>Restaurant visiting restrictions</th>\n",
       "      <td>13</td>\n",
       "      <td>3</td>\n",
       "      <td>1</td>\n",
       "      <td>11</td>\n",
       "      <td>8</td>\n",
       "      <td>2</td>\n",
       "      <td>4</td>\n",
       "      <td>2</td>\n",
       "      <td>29</td>\n",
       "      <td>22</td>\n",
       "      <td>0</td>\n",
       "      <td>2</td>\n",
       "    </tr>\n",
       "    <tr>\n",
       "      <th>Retail closure</th>\n",
       "      <td>9</td>\n",
       "      <td>0</td>\n",
       "      <td>1</td>\n",
       "      <td>4</td>\n",
       "      <td>5</td>\n",
       "      <td>1</td>\n",
       "      <td>4</td>\n",
       "      <td>1</td>\n",
       "      <td>10</td>\n",
       "      <td>8</td>\n",
       "      <td>0</td>\n",
       "      <td>2</td>\n",
       "    </tr>\n",
       "    <tr>\n",
       "      <th>School closure</th>\n",
       "      <td>17</td>\n",
       "      <td>12</td>\n",
       "      <td>2</td>\n",
       "      <td>14</td>\n",
       "      <td>12</td>\n",
       "      <td>4</td>\n",
       "      <td>3</td>\n",
       "      <td>2</td>\n",
       "      <td>53</td>\n",
       "      <td>41</td>\n",
       "      <td>4</td>\n",
       "      <td>2</td>\n",
       "    </tr>\n",
       "    <tr>\n",
       "      <th>Self-Assessment Tool Released</th>\n",
       "      <td>6</td>\n",
       "      <td>0</td>\n",
       "      <td>1</td>\n",
       "      <td>7</td>\n",
       "      <td>0</td>\n",
       "      <td>1</td>\n",
       "      <td>1</td>\n",
       "      <td>2</td>\n",
       "      <td>8</td>\n",
       "      <td>8</td>\n",
       "      <td>0</td>\n",
       "      <td>2</td>\n",
       "    </tr>\n",
       "    <tr>\n",
       "      <th>Self-monitored quarantine</th>\n",
       "      <td>21</td>\n",
       "      <td>2</td>\n",
       "      <td>1</td>\n",
       "      <td>12</td>\n",
       "      <td>7</td>\n",
       "      <td>9</td>\n",
       "      <td>5</td>\n",
       "      <td>4</td>\n",
       "      <td>27</td>\n",
       "      <td>20</td>\n",
       "      <td>3</td>\n",
       "      <td>2</td>\n",
       "    </tr>\n",
       "    <tr>\n",
       "      <th>Self-reported screening</th>\n",
       "      <td>8</td>\n",
       "      <td>0</td>\n",
       "      <td>1</td>\n",
       "      <td>4</td>\n",
       "      <td>3</td>\n",
       "      <td>4</td>\n",
       "      <td>1</td>\n",
       "      <td>2</td>\n",
       "      <td>9</td>\n",
       "      <td>7</td>\n",
       "      <td>0</td>\n",
       "      <td>2</td>\n",
       "    </tr>\n",
       "    <tr>\n",
       "      <th>Social Distancing Announcement</th>\n",
       "      <td>41</td>\n",
       "      <td>0</td>\n",
       "      <td>1</td>\n",
       "      <td>13</td>\n",
       "      <td>18</td>\n",
       "      <td>6</td>\n",
       "      <td>3</td>\n",
       "      <td>5</td>\n",
       "      <td>111</td>\n",
       "      <td>52</td>\n",
       "      <td>5</td>\n",
       "      <td>3</td>\n",
       "    </tr>\n",
       "    <tr>\n",
       "      <th>Social Service provider restrictions</th>\n",
       "      <td>16</td>\n",
       "      <td>1</td>\n",
       "      <td>1</td>\n",
       "      <td>10</td>\n",
       "      <td>13</td>\n",
       "      <td>8</td>\n",
       "      <td>2</td>\n",
       "      <td>4</td>\n",
       "      <td>30</td>\n",
       "      <td>29</td>\n",
       "      <td>1</td>\n",
       "      <td>3</td>\n",
       "    </tr>\n",
       "    <tr>\n",
       "      <th>Symptom screening</th>\n",
       "      <td>18</td>\n",
       "      <td>0</td>\n",
       "      <td>1</td>\n",
       "      <td>9</td>\n",
       "      <td>5</td>\n",
       "      <td>7</td>\n",
       "      <td>2</td>\n",
       "      <td>4</td>\n",
       "      <td>23</td>\n",
       "      <td>15</td>\n",
       "      <td>3</td>\n",
       "      <td>2</td>\n",
       "    </tr>\n",
       "    <tr>\n",
       "      <th>Technology</th>\n",
       "      <td>13</td>\n",
       "      <td>0</td>\n",
       "      <td>1</td>\n",
       "      <td>8</td>\n",
       "      <td>4</td>\n",
       "      <td>4</td>\n",
       "      <td>1</td>\n",
       "      <td>6</td>\n",
       "      <td>16</td>\n",
       "      <td>15</td>\n",
       "      <td>2</td>\n",
       "      <td>3</td>\n",
       "    </tr>\n",
       "    <tr>\n",
       "      <th>Temperature screening</th>\n",
       "      <td>3</td>\n",
       "      <td>0</td>\n",
       "      <td>1</td>\n",
       "      <td>3</td>\n",
       "      <td>2</td>\n",
       "      <td>2</td>\n",
       "      <td>1</td>\n",
       "      <td>2</td>\n",
       "      <td>3</td>\n",
       "      <td>3</td>\n",
       "      <td>1</td>\n",
       "      <td>2</td>\n",
       "    </tr>\n",
       "    <tr>\n",
       "      <th>Testing Definition Change</th>\n",
       "      <td>21</td>\n",
       "      <td>0</td>\n",
       "      <td>1</td>\n",
       "      <td>9</td>\n",
       "      <td>6</td>\n",
       "      <td>6</td>\n",
       "      <td>1</td>\n",
       "      <td>3</td>\n",
       "      <td>26</td>\n",
       "      <td>17</td>\n",
       "      <td>2</td>\n",
       "      <td>3</td>\n",
       "    </tr>\n",
       "    <tr>\n",
       "      <th>Tourism site restrictions</th>\n",
       "      <td>4</td>\n",
       "      <td>0</td>\n",
       "      <td>1</td>\n",
       "      <td>3</td>\n",
       "      <td>3</td>\n",
       "      <td>1</td>\n",
       "      <td>2</td>\n",
       "      <td>1</td>\n",
       "      <td>5</td>\n",
       "      <td>4</td>\n",
       "      <td>0</td>\n",
       "      <td>2</td>\n",
       "    </tr>\n",
       "    <tr>\n",
       "      <th>Travel Restriction (External)</th>\n",
       "      <td>11</td>\n",
       "      <td>2</td>\n",
       "      <td>1</td>\n",
       "      <td>12</td>\n",
       "      <td>4</td>\n",
       "      <td>6</td>\n",
       "      <td>2</td>\n",
       "      <td>2</td>\n",
       "      <td>21</td>\n",
       "      <td>14</td>\n",
       "      <td>4</td>\n",
       "      <td>2</td>\n",
       "    </tr>\n",
       "    <tr>\n",
       "      <th>Travel Restriction (Internal)</th>\n",
       "      <td>23</td>\n",
       "      <td>1</td>\n",
       "      <td>1</td>\n",
       "      <td>12</td>\n",
       "      <td>9</td>\n",
       "      <td>5</td>\n",
       "      <td>3</td>\n",
       "      <td>3</td>\n",
       "      <td>37</td>\n",
       "      <td>23</td>\n",
       "      <td>2</td>\n",
       "      <td>2</td>\n",
       "    </tr>\n",
       "    <tr>\n",
       "      <th>Virtual Care Billing Enabled</th>\n",
       "      <td>5</td>\n",
       "      <td>0</td>\n",
       "      <td>1</td>\n",
       "      <td>5</td>\n",
       "      <td>1</td>\n",
       "      <td>2</td>\n",
       "      <td>1</td>\n",
       "      <td>0</td>\n",
       "      <td>6</td>\n",
       "      <td>6</td>\n",
       "      <td>2</td>\n",
       "      <td>1</td>\n",
       "    </tr>\n",
       "  </tbody>\n",
       "</table>\n",
       "<p>62 rows × 12 columns</p>\n",
       "</div>"
      ],
      "text/plain": [
       "                                                    start_date  end_date  \\\n",
       "intervention_category                                                      \n",
       "Administrative flexibility                                  27         6   \n",
       "Border closure                                               6         0   \n",
       "Case Definition Change                                       3         0   \n",
       "Correctional facility restrictions                          12         0   \n",
       "Court closure                                               10         2   \n",
       "Creation of command center                                  24         1   \n",
       "Declaration of emergency (or similar)                       27        15   \n",
       "Disclosed Case Reporting Change                              3         0   \n",
       "Education or Work from Home                                 16         0   \n",
       "Electoral poll cancelation                                   5         0   \n",
       "Emergency economic funding                                  31        20   \n",
       "Emergency healthcare funding                                29         4   \n",
       "Emergency research funding                                   5         1   \n",
       "Emergency social services funding                           26         2   \n",
       "Employment Protections                                      18         2   \n",
       "First case announcement                                     15         0   \n",
       "First case resolution announcement                           3         0   \n",
       "First death announcement                                    16         0   \n",
       "First multiple case announcement                             7         0   \n",
       "General case announcement                                   57         0   \n",
       "Government building closure                                 20         5   \n",
       "Government-monitored lockdown                                1         0   \n",
       "Government-monitored quarantine                              5         1   \n",
       "Government-sponsored isolation facility                     10         0   \n",
       "Health workforce task-shifting                              24         1   \n",
       "Healthcare facility restrictions                            30         0   \n",
       "Improve testing capacity                                    28         0   \n",
       "Increased sanitation measures                               24         0   \n",
       "Manufacturing repurposing                                   16         0   \n",
       "Non-essential workplace closure                             26        13   \n",
       "...                                                        ...       ...   \n",
       "Public Reassurance                                          31         0   \n",
       "Public event size restriction (<=10)                         9         2   \n",
       "Public event size restriction (<=2)                          2         0   \n",
       "Public event size restriction (<=25)                         3         0   \n",
       "Public event size restriction (<=250)                        5         2   \n",
       "Public event size restriction (<=5)                          7         2   \n",
       "Public event size restriction (<=50)                         4         2   \n",
       "Public event/ meeting cancellation or postponement          28         8   \n",
       "Public park closure                                         24         7   \n",
       "Public park restrictions                                    16         0   \n",
       "Public transit route reduction                               9         0   \n",
       "Recommended self-isolation                                  28         2   \n",
       "Recreational / Entertainment Facility Closure               23         6   \n",
       "Restaurant Closure                                           1         0   \n",
       "Restaurant visiting restrictions                            13         3   \n",
       "Retail closure                                               9         0   \n",
       "School closure                                              17        12   \n",
       "Self-Assessment Tool Released                                6         0   \n",
       "Self-monitored quarantine                                   21         2   \n",
       "Self-reported screening                                      8         0   \n",
       "Social Distancing Announcement                              41         0   \n",
       "Social Service provider restrictions                        16         1   \n",
       "Symptom screening                                           18         0   \n",
       "Technology                                                  13         0   \n",
       "Temperature screening                                        3         0   \n",
       "Testing Definition Change                                   21         0   \n",
       "Tourism site restrictions                                    4         0   \n",
       "Travel Restriction (External)                               11         2   \n",
       "Travel Restriction (Internal)                               23         1   \n",
       "Virtual Care Billing Enabled                                 5         0   \n",
       "\n",
       "                                                    country  region  \\\n",
       "intervention_category                                                 \n",
       "Administrative flexibility                                2      12   \n",
       "Border closure                                            1       6   \n",
       "Case Definition Change                                    1       2   \n",
       "Correctional facility restrictions                        1       7   \n",
       "Court closure                                             1       8   \n",
       "Creation of command center                                1       9   \n",
       "Declaration of emergency (or similar)                     1      13   \n",
       "Disclosed Case Reporting Change                           1       2   \n",
       "Education or Work from Home                               1      12   \n",
       "Electoral poll cancelation                                1       4   \n",
       "Emergency economic funding                                1      14   \n",
       "Emergency healthcare funding                              1      10   \n",
       "Emergency research funding                                1       3   \n",
       "Emergency social services funding                         1      14   \n",
       "Employment Protections                                    1      13   \n",
       "First case announcement                                   1      12   \n",
       "First case resolution announcement                        1       3   \n",
       "First death announcement                                  1       9   \n",
       "First multiple case announcement                          1       4   \n",
       "General case announcement                                 1      12   \n",
       "Government building closure                               1      10   \n",
       "Government-monitored lockdown                             1       1   \n",
       "Government-monitored quarantine                           1       5   \n",
       "Government-sponsored isolation facility                   1       4   \n",
       "Health workforce task-shifting                            1      10   \n",
       "Healthcare facility restrictions                          1      12   \n",
       "Improve testing capacity                                  1      11   \n",
       "Increased sanitation measures                             1      11   \n",
       "Manufacturing repurposing                                 1       5   \n",
       "Non-essential workplace closure                           1      13   \n",
       "...                                                     ...     ...   \n",
       "Public Reassurance                                        1      12   \n",
       "Public event size restriction (<=10)                      1       6   \n",
       "Public event size restriction (<=2)                       1       3   \n",
       "Public event size restriction (<=25)                      1       3   \n",
       "Public event size restriction (<=250)                     1       7   \n",
       "Public event size restriction (<=5)                       1       3   \n",
       "Public event size restriction (<=50)                      1       9   \n",
       "Public event/ meeting cancellation or postponement        1      10   \n",
       "Public park closure                                       2      11   \n",
       "Public park restrictions                                  2       6   \n",
       "Public transit route reduction                            1       7   \n",
       "Recommended self-isolation                                1      11   \n",
       "Recreational / Entertainment Facility Closure             1      13   \n",
       "Restaurant Closure                                        1       1   \n",
       "Restaurant visiting restrictions                          1      11   \n",
       "Retail closure                                            1       4   \n",
       "School closure                                            2      14   \n",
       "Self-Assessment Tool Released                             1       7   \n",
       "Self-monitored quarantine                                 1      12   \n",
       "Self-reported screening                                   1       4   \n",
       "Social Distancing Announcement                            1      13   \n",
       "Social Service provider restrictions                      1      10   \n",
       "Symptom screening                                         1       9   \n",
       "Technology                                                1       8   \n",
       "Temperature screening                                     1       3   \n",
       "Testing Definition Change                                 1       9   \n",
       "Tourism site restrictions                                 1       3   \n",
       "Travel Restriction (External)                             1      12   \n",
       "Travel Restriction (Internal)                             1      12   \n",
       "Virtual Care Billing Enabled                              1       5   \n",
       "\n",
       "                                                    subregion  \\\n",
       "intervention_category                                           \n",
       "Administrative flexibility                                 16   \n",
       "Border closure                                              0   \n",
       "Case Definition Change                                      1   \n",
       "Correctional facility restrictions                          0   \n",
       "Court closure                                               7   \n",
       "Creation of command center                                  9   \n",
       "Declaration of emergency (or similar)                      16   \n",
       "Disclosed Case Reporting Change                             0   \n",
       "Education or Work from Home                                 5   \n",
       "Electoral poll cancelation                                  2   \n",
       "Emergency economic funding                                 13   \n",
       "Emergency healthcare funding                                3   \n",
       "Emergency research funding                                  0   \n",
       "Emergency social services funding                          13   \n",
       "Employment Protections                                      3   \n",
       "First case announcement                                    10   \n",
       "First case resolution announcement                          1   \n",
       "First death announcement                                    9   \n",
       "First multiple case announcement                            3   \n",
       "General case announcement                                   8   \n",
       "Government building closure                                15   \n",
       "Government-monitored lockdown                               0   \n",
       "Government-monitored quarantine                             2   \n",
       "Government-sponsored isolation facility                     2   \n",
       "Health workforce task-shifting                              4   \n",
       "Healthcare facility restrictions                           12   \n",
       "Improve testing capacity                                   12   \n",
       "Increased sanitation measures                              12   \n",
       "Manufacturing repurposing                                   2   \n",
       "Non-essential workplace closure                            13   \n",
       "...                                                       ...   \n",
       "Public Reassurance                                          6   \n",
       "Public event size restriction (<=10)                        2   \n",
       "Public event size restriction (<=2)                         1   \n",
       "Public event size restriction (<=25)                        1   \n",
       "Public event size restriction (<=250)                       7   \n",
       "Public event size restriction (<=5)                         7   \n",
       "Public event size restriction (<=50)                        6   \n",
       "Public event/ meeting cancellation or postponement         19   \n",
       "Public park closure                                        17   \n",
       "Public park restrictions                                   11   \n",
       "Public transit route reduction                              8   \n",
       "Recommended self-isolation                                  7   \n",
       "Recreational / Entertainment Facility Closure              18   \n",
       "Restaurant Closure                                          1   \n",
       "Restaurant visiting restrictions                            8   \n",
       "Retail closure                                              5   \n",
       "School closure                                             12   \n",
       "Self-Assessment Tool Released                               0   \n",
       "Self-monitored quarantine                                   7   \n",
       "Self-reported screening                                     3   \n",
       "Social Distancing Announcement                             18   \n",
       "Social Service provider restrictions                       13   \n",
       "Symptom screening                                           5   \n",
       "Technology                                                  4   \n",
       "Temperature screening                                       2   \n",
       "Testing Definition Change                                   6   \n",
       "Tourism site restrictions                                   3   \n",
       "Travel Restriction (External)                               4   \n",
       "Travel Restriction (Internal)                               9   \n",
       "Virtual Care Billing Enabled                                1   \n",
       "\n",
       "                                                    target_population_category  \\\n",
       "intervention_category                                                            \n",
       "Administrative flexibility                                                   8   \n",
       "Border closure                                                               2   \n",
       "Case Definition Change                                                       1   \n",
       "Correctional facility restrictions                                           2   \n",
       "Court closure                                                                1   \n",
       "Creation of command center                                                   4   \n",
       "Declaration of emergency (or similar)                                        3   \n",
       "Disclosed Case Reporting Change                                              1   \n",
       "Education or Work from Home                                                  5   \n",
       "Electoral poll cancelation                                                   1   \n",
       "Emergency economic funding                                                   9   \n",
       "Emergency healthcare funding                                                 9   \n",
       "Emergency research funding                                                   1   \n",
       "Emergency social services funding                                           10   \n",
       "Employment Protections                                                       7   \n",
       "First case announcement                                                      3   \n",
       "First case resolution announcement                                           1   \n",
       "First death announcement                                                     2   \n",
       "First multiple case announcement                                             1   \n",
       "General case announcement                                                    5   \n",
       "Government building closure                                                  3   \n",
       "Government-monitored lockdown                                                1   \n",
       "Government-monitored quarantine                                              2   \n",
       "Government-sponsored isolation facility                                      4   \n",
       "Health workforce task-shifting                                               5   \n",
       "Healthcare facility restrictions                                             6   \n",
       "Improve testing capacity                                                     6   \n",
       "Increased sanitation measures                                                7   \n",
       "Manufacturing repurposing                                                    3   \n",
       "Non-essential workplace closure                                              7   \n",
       "...                                                                        ...   \n",
       "Public Reassurance                                                           5   \n",
       "Public event size restriction (<=10)                                         1   \n",
       "Public event size restriction (<=2)                                          1   \n",
       "Public event size restriction (<=25)                                         1   \n",
       "Public event size restriction (<=250)                                        1   \n",
       "Public event size restriction (<=5)                                          1   \n",
       "Public event size restriction (<=50)                                         1   \n",
       "Public event/ meeting cancellation or postponement                           5   \n",
       "Public park closure                                                          1   \n",
       "Public park restrictions                                                     1   \n",
       "Public transit route reduction                                               1   \n",
       "Recommended self-isolation                                                   6   \n",
       "Recreational / Entertainment Facility Closure                                2   \n",
       "Restaurant Closure                                                           1   \n",
       "Restaurant visiting restrictions                                             2   \n",
       "Retail closure                                                               1   \n",
       "School closure                                                               4   \n",
       "Self-Assessment Tool Released                                                1   \n",
       "Self-monitored quarantine                                                    9   \n",
       "Self-reported screening                                                      4   \n",
       "Social Distancing Announcement                                               6   \n",
       "Social Service provider restrictions                                         8   \n",
       "Symptom screening                                                            7   \n",
       "Technology                                                                   4   \n",
       "Temperature screening                                                        2   \n",
       "Testing Definition Change                                                    6   \n",
       "Tourism site restrictions                                                    1   \n",
       "Travel Restriction (External)                                                6   \n",
       "Travel Restriction (Internal)                                                5   \n",
       "Virtual Care Billing Enabled                                                 2   \n",
       "\n",
       "                                                    enforcement_category  \\\n",
       "intervention_category                                                      \n",
       "Administrative flexibility                                             3   \n",
       "Border closure                                                         3   \n",
       "Case Definition Change                                                 1   \n",
       "Correctional facility restrictions                                     2   \n",
       "Court closure                                                          2   \n",
       "Creation of command center                                             1   \n",
       "Declaration of emergency (or similar)                                  3   \n",
       "Disclosed Case Reporting Change                                        1   \n",
       "Education or Work from Home                                            1   \n",
       "Electoral poll cancelation                                             2   \n",
       "Emergency economic funding                                             1   \n",
       "Emergency healthcare funding                                           1   \n",
       "Emergency research funding                                             1   \n",
       "Emergency social services funding                                      1   \n",
       "Employment Protections                                                 1   \n",
       "First case announcement                                                1   \n",
       "First case resolution announcement                                     1   \n",
       "First death announcement                                               1   \n",
       "First multiple case announcement                                       1   \n",
       "General case announcement                                              1   \n",
       "Government building closure                                            2   \n",
       "Government-monitored lockdown                                          1   \n",
       "Government-monitored quarantine                                        3   \n",
       "Government-sponsored isolation facility                                2   \n",
       "Health workforce task-shifting                                         3   \n",
       "Healthcare facility restrictions                                       4   \n",
       "Improve testing capacity                                               1   \n",
       "Increased sanitation measures                                          2   \n",
       "Manufacturing repurposing                                              1   \n",
       "Non-essential workplace closure                                        4   \n",
       "...                                                                  ...   \n",
       "Public Reassurance                                                     1   \n",
       "Public event size restriction (<=10)                                   3   \n",
       "Public event size restriction (<=2)                                    2   \n",
       "Public event size restriction (<=25)                                   3   \n",
       "Public event size restriction (<=250)                                  3   \n",
       "Public event size restriction (<=5)                                    3   \n",
       "Public event size restriction (<=50)                                   3   \n",
       "Public event/ meeting cancellation or postponement                     2   \n",
       "Public park closure                                                    4   \n",
       "Public park restrictions                                               3   \n",
       "Public transit route reduction                                         2   \n",
       "Recommended self-isolation                                             2   \n",
       "Recreational / Entertainment Facility Closure                          3   \n",
       "Restaurant Closure                                                     1   \n",
       "Restaurant visiting restrictions                                       4   \n",
       "Retail closure                                                         4   \n",
       "School closure                                                         3   \n",
       "Self-Assessment Tool Released                                          1   \n",
       "Self-monitored quarantine                                              5   \n",
       "Self-reported screening                                                1   \n",
       "Social Distancing Announcement                                         3   \n",
       "Social Service provider restrictions                                   2   \n",
       "Symptom screening                                                      2   \n",
       "Technology                                                             1   \n",
       "Temperature screening                                                  1   \n",
       "Testing Definition Change                                              1   \n",
       "Tourism site restrictions                                              2   \n",
       "Travel Restriction (External)                                          2   \n",
       "Travel Restriction (Internal)                                          3   \n",
       "Virtual Care Billing Enabled                                           1   \n",
       "\n",
       "                                                    oxford_government_response_category  \\\n",
       "intervention_category                                                                     \n",
       "Administrative flexibility                                                            4   \n",
       "Border closure                                                                        2   \n",
       "Case Definition Change                                                                0   \n",
       "Correctional facility restrictions                                                    2   \n",
       "Court closure                                                                         2   \n",
       "Creation of command center                                                            1   \n",
       "Declaration of emergency (or similar)                                                 3   \n",
       "Disclosed Case Reporting Change                                                       1   \n",
       "Education or Work from Home                                                           4   \n",
       "Electoral poll cancelation                                                            2   \n",
       "Emergency economic funding                                                            3   \n",
       "Emergency healthcare funding                                                          3   \n",
       "Emergency research funding                                                            2   \n",
       "Emergency social services funding                                                     3   \n",
       "Employment Protections                                                                2   \n",
       "First case announcement                                                               1   \n",
       "First case resolution announcement                                                    1   \n",
       "First death announcement                                                              1   \n",
       "First multiple case announcement                                                      1   \n",
       "General case announcement                                                             2   \n",
       "Government building closure                                                           3   \n",
       "Government-monitored lockdown                                                         0   \n",
       "Government-monitored quarantine                                                       2   \n",
       "Government-sponsored isolation facility                                               1   \n",
       "Health workforce task-shifting                                                        5   \n",
       "Healthcare facility restrictions                                                      6   \n",
       "Improve testing capacity                                                              3   \n",
       "Increased sanitation measures                                                         3   \n",
       "Manufacturing repurposing                                                             1   \n",
       "Non-essential workplace closure                                                       5   \n",
       "...                                                                                 ...   \n",
       "Public Reassurance                                                                    6   \n",
       "Public event size restriction (<=10)                                                  1   \n",
       "Public event size restriction (<=2)                                                   1   \n",
       "Public event size restriction (<=25)                                                  1   \n",
       "Public event size restriction (<=250)                                                 1   \n",
       "Public event size restriction (<=5)                                                   2   \n",
       "Public event size restriction (<=50)                                                  1   \n",
       "Public event/ meeting cancellation or postponement                                    3   \n",
       "Public park closure                                                                   4   \n",
       "Public park restrictions                                                              4   \n",
       "Public transit route reduction                                                        2   \n",
       "Recommended self-isolation                                                            4   \n",
       "Recreational / Entertainment Facility Closure                                         4   \n",
       "Restaurant Closure                                                                    1   \n",
       "Restaurant visiting restrictions                                                      2   \n",
       "Retail closure                                                                        1   \n",
       "School closure                                                                        2   \n",
       "Self-Assessment Tool Released                                                         2   \n",
       "Self-monitored quarantine                                                             4   \n",
       "Self-reported screening                                                               2   \n",
       "Social Distancing Announcement                                                        5   \n",
       "Social Service provider restrictions                                                  4   \n",
       "Symptom screening                                                                     4   \n",
       "Technology                                                                            6   \n",
       "Temperature screening                                                                 2   \n",
       "Testing Definition Change                                                             3   \n",
       "Tourism site restrictions                                                             1   \n",
       "Travel Restriction (External)                                                         2   \n",
       "Travel Restriction (Internal)                                                         3   \n",
       "Virtual Care Billing Enabled                                                          0   \n",
       "\n",
       "                                                    source_url  \\\n",
       "intervention_category                                            \n",
       "Administrative flexibility                                  68   \n",
       "Border closure                                               6   \n",
       "Case Definition Change                                       3   \n",
       "Correctional facility restrictions                          12   \n",
       "Court closure                                               20   \n",
       "Creation of command center                                  29   \n",
       "Declaration of emergency (or similar)                       53   \n",
       "Disclosed Case Reporting Change                              2   \n",
       "Education or Work from Home                                 27   \n",
       "Electoral poll cancelation                                   6   \n",
       "Emergency economic funding                                 120   \n",
       "Emergency healthcare funding                                55   \n",
       "Emergency research funding                                   5   \n",
       "Emergency social services funding                           74   \n",
       "Employment Protections                                      29   \n",
       "First case announcement                                     26   \n",
       "First case resolution announcement                           3   \n",
       "First death announcement                                    18   \n",
       "First multiple case announcement                             7   \n",
       "General case announcement                                  203   \n",
       "Government building closure                                 45   \n",
       "Government-monitored lockdown                                1   \n",
       "Government-monitored quarantine                              5   \n",
       "Government-sponsored isolation facility                     11   \n",
       "Health workforce task-shifting                              35   \n",
       "Healthcare facility restrictions                            61   \n",
       "Improve testing capacity                                    41   \n",
       "Increased sanitation measures                               31   \n",
       "Manufacturing repurposing                                   18   \n",
       "Non-essential workplace closure                             65   \n",
       "...                                                        ...   \n",
       "Public Reassurance                                          47   \n",
       "Public event size restriction (<=10)                        10   \n",
       "Public event size restriction (<=2)                          3   \n",
       "Public event size restriction (<=25)                         4   \n",
       "Public event size restriction (<=250)                       16   \n",
       "Public event size restriction (<=5)                          9   \n",
       "Public event size restriction (<=50)                        18   \n",
       "Public event/ meeting cancellation or postponement          66   \n",
       "Public park closure                                         48   \n",
       "Public park restrictions                                    23   \n",
       "Public transit route reduction                               9   \n",
       "Recommended self-isolation                                  58   \n",
       "Recreational / Entertainment Facility Closure               57   \n",
       "Restaurant Closure                                           1   \n",
       "Restaurant visiting restrictions                            29   \n",
       "Retail closure                                              10   \n",
       "School closure                                              53   \n",
       "Self-Assessment Tool Released                                8   \n",
       "Self-monitored quarantine                                   27   \n",
       "Self-reported screening                                      9   \n",
       "Social Distancing Announcement                             111   \n",
       "Social Service provider restrictions                        30   \n",
       "Symptom screening                                           23   \n",
       "Technology                                                  16   \n",
       "Temperature screening                                        3   \n",
       "Testing Definition Change                                   26   \n",
       "Tourism site restrictions                                    5   \n",
       "Travel Restriction (External)                               21   \n",
       "Travel Restriction (Internal)                               37   \n",
       "Virtual Care Billing Enabled                                 6   \n",
       "\n",
       "                                                    source_organization  \\\n",
       "intervention_category                                                     \n",
       "Administrative flexibility                                           42   \n",
       "Border closure                                                        6   \n",
       "Case Definition Change                                                3   \n",
       "Correctional facility restrictions                                    7   \n",
       "Court closure                                                        16   \n",
       "Creation of command center                                           20   \n",
       "Declaration of emergency (or similar)                                30   \n",
       "Disclosed Case Reporting Change                                       2   \n",
       "Education or Work from Home                                          20   \n",
       "Electoral poll cancelation                                            5   \n",
       "Emergency economic funding                                           47   \n",
       "Emergency healthcare funding                                         31   \n",
       "Emergency research funding                                            3   \n",
       "Emergency social services funding                                    62   \n",
       "Employment Protections                                               20   \n",
       "First case announcement                                              22   \n",
       "First case resolution announcement                                    3   \n",
       "First death announcement                                             16   \n",
       "First multiple case announcement                                      7   \n",
       "General case announcement                                            28   \n",
       "Government building closure                                          29   \n",
       "Government-monitored lockdown                                         1   \n",
       "Government-monitored quarantine                                       5   \n",
       "Government-sponsored isolation facility                               7   \n",
       "Health workforce task-shifting                                       18   \n",
       "Healthcare facility restrictions                                     29   \n",
       "Improve testing capacity                                             24   \n",
       "Increased sanitation measures                                        24   \n",
       "Manufacturing repurposing                                            13   \n",
       "Non-essential workplace closure                                      34   \n",
       "...                                                                 ...   \n",
       "Public Reassurance                                                   29   \n",
       "Public event size restriction (<=10)                                  9   \n",
       "Public event size restriction (<=2)                                   3   \n",
       "Public event size restriction (<=25)                                  4   \n",
       "Public event size restriction (<=250)                                12   \n",
       "Public event size restriction (<=5)                                   9   \n",
       "Public event size restriction (<=50)                                 15   \n",
       "Public event/ meeting cancellation or postponement                   38   \n",
       "Public park closure                                                  33   \n",
       "Public park restrictions                                             19   \n",
       "Public transit route reduction                                        8   \n",
       "Recommended self-isolation                                           21   \n",
       "Recreational / Entertainment Facility Closure                        38   \n",
       "Restaurant Closure                                                    1   \n",
       "Restaurant visiting restrictions                                     22   \n",
       "Retail closure                                                        8   \n",
       "School closure                                                       41   \n",
       "Self-Assessment Tool Released                                         8   \n",
       "Self-monitored quarantine                                            20   \n",
       "Self-reported screening                                               7   \n",
       "Social Distancing Announcement                                       52   \n",
       "Social Service provider restrictions                                 29   \n",
       "Symptom screening                                                    15   \n",
       "Technology                                                           15   \n",
       "Temperature screening                                                 3   \n",
       "Testing Definition Change                                            17   \n",
       "Tourism site restrictions                                             4   \n",
       "Travel Restriction (External)                                        14   \n",
       "Travel Restriction (Internal)                                        23   \n",
       "Virtual Care Billing Enabled                                          6   \n",
       "\n",
       "                                                    source_organization_2  \\\n",
       "intervention_category                                                       \n",
       "Administrative flexibility                                              7   \n",
       "Border closure                                                          0   \n",
       "Case Definition Change                                                  0   \n",
       "Correctional facility restrictions                                      1   \n",
       "Court closure                                                           2   \n",
       "Creation of command center                                              1   \n",
       "Declaration of emergency (or similar)                                   1   \n",
       "Disclosed Case Reporting Change                                         0   \n",
       "Education or Work from Home                                             3   \n",
       "Electoral poll cancelation                                              1   \n",
       "Emergency economic funding                                             15   \n",
       "Emergency healthcare funding                                            9   \n",
       "Emergency research funding                                              1   \n",
       "Emergency social services funding                                      10   \n",
       "Employment Protections                                                  3   \n",
       "First case announcement                                                 1   \n",
       "First case resolution announcement                                      0   \n",
       "First death announcement                                                2   \n",
       "First multiple case announcement                                        0   \n",
       "General case announcement                                               2   \n",
       "Government building closure                                             2   \n",
       "Government-monitored lockdown                                           0   \n",
       "Government-monitored quarantine                                         0   \n",
       "Government-sponsored isolation facility                                 3   \n",
       "Health workforce task-shifting                                          2   \n",
       "Healthcare facility restrictions                                        4   \n",
       "Improve testing capacity                                                4   \n",
       "Increased sanitation measures                                           8   \n",
       "Manufacturing repurposing                                               1   \n",
       "Non-essential workplace closure                                         4   \n",
       "...                                                                   ...   \n",
       "Public Reassurance                                                      1   \n",
       "Public event size restriction (<=10)                                    0   \n",
       "Public event size restriction (<=2)                                     0   \n",
       "Public event size restriction (<=25)                                    0   \n",
       "Public event size restriction (<=250)                                   1   \n",
       "Public event size restriction (<=5)                                     0   \n",
       "Public event size restriction (<=50)                                    0   \n",
       "Public event/ meeting cancellation or postponement                      4   \n",
       "Public park closure                                                     3   \n",
       "Public park restrictions                                                3   \n",
       "Public transit route reduction                                          1   \n",
       "Recommended self-isolation                                              2   \n",
       "Recreational / Entertainment Facility Closure                           1   \n",
       "Restaurant Closure                                                      0   \n",
       "Restaurant visiting restrictions                                        0   \n",
       "Retail closure                                                          0   \n",
       "School closure                                                          4   \n",
       "Self-Assessment Tool Released                                           0   \n",
       "Self-monitored quarantine                                               3   \n",
       "Self-reported screening                                                 0   \n",
       "Social Distancing Announcement                                          5   \n",
       "Social Service provider restrictions                                    1   \n",
       "Symptom screening                                                       3   \n",
       "Technology                                                              2   \n",
       "Temperature screening                                                   1   \n",
       "Testing Definition Change                                               2   \n",
       "Tourism site restrictions                                               0   \n",
       "Travel Restriction (External)                                           4   \n",
       "Travel Restriction (Internal)                                           2   \n",
       "Virtual Care Billing Enabled                                            2   \n",
       "\n",
       "                                                    source_category  \n",
       "intervention_category                                                \n",
       "Administrative flexibility                                        3  \n",
       "Border closure                                                    2  \n",
       "Case Definition Change                                            1  \n",
       "Correctional facility restrictions                                1  \n",
       "Court closure                                                     1  \n",
       "Creation of command center                                        1  \n",
       "Declaration of emergency (or similar)                             2  \n",
       "Disclosed Case Reporting Change                                   1  \n",
       "Education or Work from Home                                       2  \n",
       "Electoral poll cancelation                                        1  \n",
       "Emergency economic funding                                        2  \n",
       "Emergency healthcare funding                                      2  \n",
       "Emergency research funding                                        1  \n",
       "Emergency social services funding                                 2  \n",
       "Employment Protections                                            2  \n",
       "First case announcement                                           2  \n",
       "First case resolution announcement                                1  \n",
       "First death announcement                                          2  \n",
       "First multiple case announcement                                  2  \n",
       "General case announcement                                         3  \n",
       "Government building closure                                       1  \n",
       "Government-monitored lockdown                                     1  \n",
       "Government-monitored quarantine                                   2  \n",
       "Government-sponsored isolation facility                           2  \n",
       "Health workforce task-shifting                                    2  \n",
       "Healthcare facility restrictions                                  3  \n",
       "Improve testing capacity                                          2  \n",
       "Increased sanitation measures                                     2  \n",
       "Manufacturing repurposing                                         2  \n",
       "Non-essential workplace closure                                   3  \n",
       "...                                                             ...  \n",
       "Public Reassurance                                                3  \n",
       "Public event size restriction (<=10)                              1  \n",
       "Public event size restriction (<=2)                               2  \n",
       "Public event size restriction (<=25)                              1  \n",
       "Public event size restriction (<=250)                             1  \n",
       "Public event size restriction (<=5)                               1  \n",
       "Public event size restriction (<=50)                              2  \n",
       "Public event/ meeting cancellation or postponement                3  \n",
       "Public park closure                                               2  \n",
       "Public park restrictions                                          3  \n",
       "Public transit route reduction                                    2  \n",
       "Recommended self-isolation                                        3  \n",
       "Recreational / Entertainment Facility Closure                     3  \n",
       "Restaurant Closure                                                1  \n",
       "Restaurant visiting restrictions                                  2  \n",
       "Retail closure                                                    2  \n",
       "School closure                                                    2  \n",
       "Self-Assessment Tool Released                                     2  \n",
       "Self-monitored quarantine                                         2  \n",
       "Self-reported screening                                           2  \n",
       "Social Distancing Announcement                                    3  \n",
       "Social Service provider restrictions                              3  \n",
       "Symptom screening                                                 2  \n",
       "Technology                                                        3  \n",
       "Temperature screening                                             2  \n",
       "Testing Definition Change                                         3  \n",
       "Tourism site restrictions                                         2  \n",
       "Travel Restriction (External)                                     2  \n",
       "Travel Restriction (Internal)                                     2  \n",
       "Virtual Care Billing Enabled                                      1  \n",
       "\n",
       "[62 rows x 12 columns]"
      ]
     },
     "execution_count": 17,
     "metadata": {},
     "output_type": "execute_result"
    }
   ],
   "source": [
    "a = full_df.groupby(by='intervention_category').nunique()[['start_date', 'end_date', 'country', 'region', 'subregion', 'target_population_category', 'enforcement_category', 'oxford_government_response_category', 'source_url', 'source_organization', 'source_organization_2', 'source_category']]\n",
    "a"
   ]
  },
  {
   "cell_type": "code",
   "execution_count": 18,
   "metadata": {},
   "outputs": [],
   "source": [
    "a.to_csv('intervention_category_uniques.csv')"
   ]
  },
  {
   "cell_type": "code",
   "execution_count": 19,
   "metadata": {},
   "outputs": [
    {
     "data": {
      "text/html": [
       "<div>\n",
       "<style scoped>\n",
       "    .dataframe tbody tr th:only-of-type {\n",
       "        vertical-align: middle;\n",
       "    }\n",
       "\n",
       "    .dataframe tbody tr th {\n",
       "        vertical-align: top;\n",
       "    }\n",
       "\n",
       "    .dataframe thead th {\n",
       "        text-align: right;\n",
       "    }\n",
       "</style>\n",
       "<table border=\"1\" class=\"dataframe\">\n",
       "  <thead>\n",
       "    <tr style=\"text-align: right;\">\n",
       "      <th></th>\n",
       "      <th>Unnamed: 0</th>\n",
       "      <th>oxford_closure_code</th>\n",
       "      <th>oxford_public_info_code</th>\n",
       "      <th>oxford_travel_code</th>\n",
       "      <th>oxford_geographic_target_code</th>\n",
       "      <th>oxford_fiscal_measure_cad</th>\n",
       "      <th>oxford_testing_code</th>\n",
       "      <th>oxford_tracing_code</th>\n",
       "    </tr>\n",
       "  </thead>\n",
       "  <tbody>\n",
       "    <tr>\n",
       "      <th>count</th>\n",
       "      <td>2517.000000</td>\n",
       "      <td>579.000000</td>\n",
       "      <td>277.000000</td>\n",
       "      <td>58.000000</td>\n",
       "      <td>888.000000</td>\n",
       "      <td>2.040000e+02</td>\n",
       "      <td>26.000000</td>\n",
       "      <td>9.000000</td>\n",
       "    </tr>\n",
       "    <tr>\n",
       "      <th>mean</th>\n",
       "      <td>1274.986095</td>\n",
       "      <td>1.772021</td>\n",
       "      <td>0.480144</td>\n",
       "      <td>1.206897</td>\n",
       "      <td>0.620495</td>\n",
       "      <td>3.420915e+08</td>\n",
       "      <td>1.461538</td>\n",
       "      <td>1.444444</td>\n",
       "    </tr>\n",
       "    <tr>\n",
       "      <th>std</th>\n",
       "      <td>736.937951</td>\n",
       "      <td>0.481324</td>\n",
       "      <td>0.500510</td>\n",
       "      <td>0.968968</td>\n",
       "      <td>0.485537</td>\n",
       "      <td>1.896474e+09</td>\n",
       "      <td>0.760567</td>\n",
       "      <td>0.527046</td>\n",
       "    </tr>\n",
       "    <tr>\n",
       "      <th>min</th>\n",
       "      <td>0.000000</td>\n",
       "      <td>0.000000</td>\n",
       "      <td>0.000000</td>\n",
       "      <td>0.000000</td>\n",
       "      <td>0.000000</td>\n",
       "      <td>0.000000e+00</td>\n",
       "      <td>1.000000</td>\n",
       "      <td>1.000000</td>\n",
       "    </tr>\n",
       "    <tr>\n",
       "      <th>25%</th>\n",
       "      <td>633.000000</td>\n",
       "      <td>2.000000</td>\n",
       "      <td>0.000000</td>\n",
       "      <td>0.250000</td>\n",
       "      <td>0.000000</td>\n",
       "      <td>1.000000e+05</td>\n",
       "      <td>1.000000</td>\n",
       "      <td>1.000000</td>\n",
       "    </tr>\n",
       "    <tr>\n",
       "      <th>50%</th>\n",
       "      <td>1277.000000</td>\n",
       "      <td>2.000000</td>\n",
       "      <td>0.000000</td>\n",
       "      <td>1.000000</td>\n",
       "      <td>1.000000</td>\n",
       "      <td>5.650000e+06</td>\n",
       "      <td>1.000000</td>\n",
       "      <td>1.000000</td>\n",
       "    </tr>\n",
       "    <tr>\n",
       "      <th>75%</th>\n",
       "      <td>1916.000000</td>\n",
       "      <td>2.000000</td>\n",
       "      <td>1.000000</td>\n",
       "      <td>2.000000</td>\n",
       "      <td>1.000000</td>\n",
       "      <td>5.475000e+07</td>\n",
       "      <td>2.000000</td>\n",
       "      <td>2.000000</td>\n",
       "    </tr>\n",
       "    <tr>\n",
       "      <th>max</th>\n",
       "      <td>2546.000000</td>\n",
       "      <td>2.000000</td>\n",
       "      <td>1.000000</td>\n",
       "      <td>3.000000</td>\n",
       "      <td>1.000000</td>\n",
       "      <td>2.400000e+10</td>\n",
       "      <td>3.000000</td>\n",
       "      <td>2.000000</td>\n",
       "    </tr>\n",
       "  </tbody>\n",
       "</table>\n",
       "</div>"
      ],
      "text/plain": [
       "        Unnamed: 0  oxford_closure_code  oxford_public_info_code  \\\n",
       "count  2517.000000           579.000000               277.000000   \n",
       "mean   1274.986095             1.772021                 0.480144   \n",
       "std     736.937951             0.481324                 0.500510   \n",
       "min       0.000000             0.000000                 0.000000   \n",
       "25%     633.000000             2.000000                 0.000000   \n",
       "50%    1277.000000             2.000000                 0.000000   \n",
       "75%    1916.000000             2.000000                 1.000000   \n",
       "max    2546.000000             2.000000                 1.000000   \n",
       "\n",
       "       oxford_travel_code  oxford_geographic_target_code  \\\n",
       "count           58.000000                     888.000000   \n",
       "mean             1.206897                       0.620495   \n",
       "std              0.968968                       0.485537   \n",
       "min              0.000000                       0.000000   \n",
       "25%              0.250000                       0.000000   \n",
       "50%              1.000000                       1.000000   \n",
       "75%              2.000000                       1.000000   \n",
       "max              3.000000                       1.000000   \n",
       "\n",
       "       oxford_fiscal_measure_cad  oxford_testing_code  oxford_tracing_code  \n",
       "count               2.040000e+02            26.000000             9.000000  \n",
       "mean                3.420915e+08             1.461538             1.444444  \n",
       "std                 1.896474e+09             0.760567             0.527046  \n",
       "min                 0.000000e+00             1.000000             1.000000  \n",
       "25%                 1.000000e+05             1.000000             1.000000  \n",
       "50%                 5.650000e+06             1.000000             1.000000  \n",
       "75%                 5.475000e+07             2.000000             2.000000  \n",
       "max                 2.400000e+10             3.000000             2.000000  "
      ]
     },
     "execution_count": 19,
     "metadata": {},
     "output_type": "execute_result"
    }
   ],
   "source": [
    "full_df.describe()"
   ]
  },
  {
   "cell_type": "markdown",
   "metadata": {},
   "source": [
    "# NPIs before Key Dates"
   ]
  },
  {
   "cell_type": "code",
   "execution_count": 20,
   "metadata": {},
   "outputs": [
    {
     "name": "stdout",
     "output_type": "stream",
     "text": [
      "Number of interventions recorded before may 11:  137\n",
      "Number of interventions recorded before may 11 (%):  0.05442987683750496\n"
     ]
    }
   ],
   "source": [
    "full_11_df = full_df[full_df['start_date'] < '2020-03-11']\n",
    "print(\"Number of interventions recorded before may 11: \", full_11_df.shape[0])\n",
    "print(\"Number of interventions recorded before may 11 (%): \", full_11_df.shape[0] / full_df.shape[0])\n"
   ]
  },
  {
   "cell_type": "code",
   "execution_count": 21,
   "metadata": {},
   "outputs": [
    {
     "data": {
      "text/plain": [
       "<matplotlib.axes._subplots.AxesSubplot at 0x7f1cdc5574a8>"
      ]
     },
     "execution_count": 21,
     "metadata": {},
     "output_type": "execute_result"
    },
    {
     "data": {
      "image/png": "[encoded data removed]",
      "text/plain": [
       "<Figure size 432x288 with 1 Axes>"
      ]
     },
     "metadata": {},
     "output_type": "display_data"
    }
   ],
   "source": [
    "full_11_df.groupby(by='intervention_category')['start_date'].count().plot.bar()"
   ]
  },
  {
   "cell_type": "code",
   "execution_count": 22,
   "metadata": {},
   "outputs": [
    {
     "name": "stdout",
     "output_type": "stream",
     "text": [
      "Number of interventions recorded before Jan 25:  9\n",
      "Number of interventions recorded before Jan 25 (%):  0.003575685339690107\n"
     ]
    }
   ],
   "source": [
    "full_1_df = full_df[full_df['start_date'] < '2020-01-25'] # first case\n",
    "print(\"Number of interventions recorded before Jan 25: \", full_1_df.shape[0])\n",
    "print(\"Number of interventions recorded before Jan 25 (%): \", full_1_df.shape[0] / full_df.shape[0])\n"
   ]
  },
  {
   "cell_type": "code",
   "execution_count": 23,
   "metadata": {},
   "outputs": [
    {
     "data": {
      "text/plain": [
       "0.003575685339690107"
      ]
     },
     "execution_count": 23,
     "metadata": {},
     "output_type": "execute_result"
    }
   ],
   "source": [
    "9 / full_df.shape[0]"
   ]
  },
  {
   "cell_type": "code",
   "execution_count": 24,
   "metadata": {},
   "outputs": [
    {
     "data": {
      "text/plain": [
       "array(['Public Announcement', 'Public Reassurance',\n",
       "       'Self-reported screening', 'Symptom screening',\n",
       "       'Improve testing capacity'], dtype=object)"
      ]
     },
     "execution_count": 24,
     "metadata": {},
     "output_type": "execute_result"
    }
   ],
   "source": [
    "full_1_df['intervention_category'].unique()"
   ]
  },
  {
   "cell_type": "markdown",
   "metadata": {},
   "source": [
    "## NPI: Enforcement Categories\n"
   ]
  },
  {
   "cell_type": "code",
   "execution_count": 25,
   "metadata": {},
   "outputs": [
    {
     "data": {
      "text/plain": [
       "6"
      ]
     },
     "execution_count": 25,
     "metadata": {},
     "output_type": "execute_result"
    }
   ],
   "source": [
    "len(full_df['enforcement_category'].unique())"
   ]
  },
  {
   "cell_type": "code",
   "execution_count": 26,
   "metadata": {},
   "outputs": [
    {
     "data": {
      "text/plain": [
       "enforcement_category\n",
       "Arrest                 6\n",
       "Legal Action          39\n",
       "Fines                 76\n",
       "Refusal of Entry     166\n",
       "Not Applicable      2147\n",
       "dtype: int64"
      ]
     },
     "execution_count": 26,
     "metadata": {},
     "output_type": "execute_result"
    }
   ],
   "source": [
    "full_df.groupby(by='enforcement_category').count().max(axis=1).sort_values()"
   ]
  },
  {
   "cell_type": "code",
   "execution_count": 27,
   "metadata": {},
   "outputs": [
    {
     "data": {
      "text/plain": [
       "Text(0.5,0,'count')"
      ]
     },
     "execution_count": 27,
     "metadata": {},
     "output_type": "execute_result"
    },
    {
     "data": {
      "image/png": "[encoded data removed]",
      "text/plain": [
       "<Figure size 216x216 with 1 Axes>"
      ]
     },
     "metadata": {},
     "output_type": "display_data"
    }
   ],
   "source": [
    "full_df.groupby(by=\"enforcement_category\").count().max(axis=1).sort_values(ascending=False).plot.barh(log=True, figsize=(3,3))\n",
    "plt.xlabel('count')"
   ]
  },
  {
   "cell_type": "markdown",
   "metadata": {},
   "source": [
    "## Target Population Categories"
   ]
  },
  {
   "cell_type": "code",
   "execution_count": 28,
   "metadata": {},
   "outputs": [
    {
     "data": {
      "text/plain": [
       "17"
      ]
     },
     "execution_count": 28,
     "metadata": {},
     "output_type": "execute_result"
    }
   ],
   "source": [
    "len(full_df['target_population_category'].unique())"
   ]
  },
  {
   "cell_type": "code",
   "execution_count": 29,
   "metadata": {},
   "outputs": [
    {
     "data": {
      "text/plain": [
       "Text(0.5,0,'count')"
      ]
     },
     "execution_count": 29,
     "metadata": {},
     "output_type": "execute_result"
    },
    {
     "data": {
      "image/png": "[encoded data removed]",
      "text/plain": [
       "<Figure size 360x504 with 1 Axes>"
      ]
     },
     "metadata": {},
     "output_type": "display_data"
    }
   ],
   "source": [
    "full_df.groupby(by=\"target_population_category\").count().max(axis=1).sort_values(ascending=False).plot.barh(log=True, figsize=(5,7))\n",
    "plt.xlabel('count')"
   ]
  },
  {
   "cell_type": "markdown",
   "metadata": {},
   "source": [
    "## NPI: Intervention Categories"
   ]
  },
  {
   "cell_type": "code",
   "execution_count": 30,
   "metadata": {},
   "outputs": [
    {
     "data": {
      "text/plain": [
       "63"
      ]
     },
     "execution_count": 30,
     "metadata": {},
     "output_type": "execute_result"
    }
   ],
   "source": [
    "len(full_df['intervention_category'].unique())"
   ]
  },
  {
   "cell_type": "markdown",
   "metadata": {},
   "source": [
    "Lets show examples of the top 15 interventions by count"
   ]
  },
  {
   "cell_type": "code",
   "execution_count": 31,
   "metadata": {},
   "outputs": [],
   "source": [
    "intervention_counts = pd.DataFrame(full_df.groupby(by='intervention_category').count().max(axis=1))"
   ]
  },
  {
   "cell_type": "code",
   "execution_count": 32,
   "metadata": {},
   "outputs": [
    {
     "data": {
      "text/html": [
       "<div>\n",
       "<style scoped>\n",
       "    .dataframe tbody tr th:only-of-type {\n",
       "        vertical-align: middle;\n",
       "    }\n",
       "\n",
       "    .dataframe tbody tr th {\n",
       "        vertical-align: top;\n",
       "    }\n",
       "\n",
       "    .dataframe thead th {\n",
       "        text-align: right;\n",
       "    }\n",
       "</style>\n",
       "<table border=\"1\" class=\"dataframe\">\n",
       "  <thead>\n",
       "    <tr style=\"text-align: right;\">\n",
       "      <th></th>\n",
       "      <th>0_x</th>\n",
       "      <th>0_y</th>\n",
       "    </tr>\n",
       "    <tr>\n",
       "      <th>intervention_category</th>\n",
       "      <th></th>\n",
       "      <th></th>\n",
       "    </tr>\n",
       "  </thead>\n",
       "  <tbody>\n",
       "    <tr>\n",
       "      <th>Public Announcement</th>\n",
       "      <td>298</td>\n",
       "      <td>Being released today is the Government of Yukon’s guidelines for critical, essential and non-essential service workers. This guidelines document will help local and non-local workers understand how to comply with the rules and protect themselves and Yukoners from COVID-19.</td>\n",
       "    </tr>\n",
       "    <tr>\n",
       "      <th>General case announcement</th>\n",
       "      <td>217</td>\n",
       "      <td>Announce 11 new cases, total 64 in BC</td>\n",
       "    </tr>\n",
       "    <tr>\n",
       "      <th>Emergency economic funding</th>\n",
       "      <td>166</td>\n",
       "      <td>Extend tax filling and tax payment deadlines for businesses</td>\n",
       "    </tr>\n",
       "    <tr>\n",
       "      <th>Social Distancing Announcement</th>\n",
       "      <td>130</td>\n",
       "      <td>​People looking to enjoy the outdoors are reminded to stay closer to home</td>\n",
       "    </tr>\n",
       "    <tr>\n",
       "      <th>Emergency social services funding</th>\n",
       "      <td>104</td>\n",
       "      <td>Supplying technology to families with children in care to enable video/phone/email/text contact</td>\n",
       "    </tr>\n",
       "    <tr>\n",
       "      <th>Administrative flexibility</th>\n",
       "      <td>90</td>\n",
       "      <td>Business, taxi and animal licences due to expire at the end of March have been extended to May 31</td>\n",
       "    </tr>\n",
       "    <tr>\n",
       "      <th>Non-essential workplace closure</th>\n",
       "      <td>83</td>\n",
       "      <td>Mandatory closure of all non-essential workplaces</td>\n",
       "    </tr>\n",
       "    <tr>\n",
       "      <th>Public event/ meeting cancellation or postponement</th>\n",
       "      <td>76</td>\n",
       "      <td>Suspend bookings for memorial services at Mountain View Cemetery Celebration Hall</td>\n",
       "    </tr>\n",
       "    <tr>\n",
       "      <th>Healthcare facility restrictions</th>\n",
       "      <td>75</td>\n",
       "      <td>Banned certain individuals from visiting hospitals (Individuals who have travelled outside of Yukon in the last 14 days, or who are feeling sick).</td>\n",
       "    </tr>\n",
       "    <tr>\n",
       "      <th>Recreational / Entertainment Facility Closure</th>\n",
       "      <td>74</td>\n",
       "      <td>Multiple local YMCA closes in Kelowna</td>\n",
       "    </tr>\n",
       "    <tr>\n",
       "      <th>Emergency healthcare funding</th>\n",
       "      <td>69</td>\n",
       "      <td>Investment of $53 million into improving access to mental health and addiction recovery services, supports and resources for all Albertans during and after the pandemic</td>\n",
       "    </tr>\n",
       "    <tr>\n",
       "      <th>Recommended self-isolation</th>\n",
       "      <td>64</td>\n",
       "      <td>Recommending self-isolation if feeling sick</td>\n",
       "    </tr>\n",
       "    <tr>\n",
       "      <th>School closure</th>\n",
       "      <td>60</td>\n",
       "      <td>Provincial Guidance: Closure of daycares</td>\n",
       "    </tr>\n",
       "    <tr>\n",
       "      <th>Declaration of emergency (or similar)</th>\n",
       "      <td>57</td>\n",
       "      <td>State of emergency declared</td>\n",
       "    </tr>\n",
       "    <tr>\n",
       "      <th>Government building closure</th>\n",
       "      <td>55</td>\n",
       "      <td>All in-person and non-essential City services closed until further notice</td>\n",
       "    </tr>\n",
       "    <tr>\n",
       "      <th>Public park closure</th>\n",
       "      <td>55</td>\n",
       "      <td>Reminder that parks and amenities are closed</td>\n",
       "    </tr>\n",
       "    <tr>\n",
       "      <th>Travel Restriction (Internal)</th>\n",
       "      <td>53</td>\n",
       "      <td>Automatic pedestrian signals</td>\n",
       "    </tr>\n",
       "  </tbody>\n",
       "</table>\n",
       "</div>"
      ],
      "text/plain": [
       "                                                    0_x  \\\n",
       "intervention_category                                     \n",
       "Public Announcement                                 298   \n",
       "General case announcement                           217   \n",
       "Emergency economic funding                          166   \n",
       "Social Distancing Announcement                      130   \n",
       "Emergency social services funding                   104   \n",
       "Administrative flexibility                          90    \n",
       "Non-essential workplace closure                     83    \n",
       "Public event/ meeting cancellation or postponement  76    \n",
       "Healthcare facility restrictions                    75    \n",
       "Recreational / Entertainment Facility Closure       74    \n",
       "Emergency healthcare funding                        69    \n",
       "Recommended self-isolation                          64    \n",
       "School closure                                      60    \n",
       "Declaration of emergency (or similar)               57    \n",
       "Government building closure                         55    \n",
       "Public park closure                                 55    \n",
       "Travel Restriction (Internal)                       53    \n",
       "\n",
       "                                                                                                                                                                                                                                                                                                                                  0_y  \n",
       "intervention_category                                                                                                                                                                                                                                                                                                                  \n",
       "Public Announcement                                 Being released today is the Government of Yukon’s guidelines for critical, essential and non-essential service workers. This guidelines document will help local and non-local workers understand how to comply with the rules and protect themselves and Yukoners from COVID-19.  \n",
       "General case announcement                           Announce 11 new cases, total 64 in BC                                                                                                                                                                                                                                              \n",
       "Emergency economic funding                          Extend tax filling and tax payment deadlines for businesses                                                                                                                                                                                                                        \n",
       "Social Distancing Announcement                      ​People looking to enjoy the outdoors are reminded to stay closer to home                                                                                                                                                                                                          \n",
       "Emergency social services funding                   Supplying technology to families with children in care to enable video/phone/email/text contact                                                                                                                                                                                    \n",
       "Administrative flexibility                          Business, taxi and animal licences due to expire at the end of March have been extended to May 31                                                                                                                                                                                  \n",
       "Non-essential workplace closure                     Mandatory closure of all non-essential workplaces                                                                                                                                                                                                                                  \n",
       "Public event/ meeting cancellation or postponement  Suspend bookings for memorial services at Mountain View Cemetery Celebration Hall                                                                                                                                                                                                  \n",
       "Healthcare facility restrictions                    Banned certain individuals from visiting hospitals (Individuals who have travelled outside of Yukon in the last 14 days, or who are feeling sick).                                                                                                                                 \n",
       "Recreational / Entertainment Facility Closure       Multiple local YMCA closes in Kelowna                                                                                                                                                                                                                                              \n",
       "Emergency healthcare funding                        Investment of $53 million into improving access to mental health and addiction recovery services, supports and resources for all Albertans during and after the pandemic                                                                                                           \n",
       "Recommended self-isolation                          Recommending self-isolation if feeling sick                                                                                                                                                                                                                                        \n",
       "School closure                                      Provincial Guidance: Closure of daycares                                                                                                                                                                                                                                           \n",
       "Declaration of emergency (or similar)               State of emergency declared                                                                                                                                                                                                                                                        \n",
       "Government building closure                         All in-person and non-essential City services closed until further notice                                                                                                                                                                                                          \n",
       "Public park closure                                 Reminder that parks and amenities are closed                                                                                                                                                                                                                                       \n",
       "Travel Restriction (Internal)                       Automatic pedestrian signals                                                                                                                                                                                                                                                       "
      ]
     },
     "execution_count": 32,
     "metadata": {},
     "output_type": "execute_result"
    }
   ],
   "source": [
    "pd.set_option('display.max_colwidth', -1)\n",
    "\n",
    "examples = pd.DataFrame(full_df.groupby(by='intervention_category').apply(lambda x: x.sample(1, random_state=3)['intervention_summary'].values[0]))\n",
    "\n",
    "intervention_counts.merge(examples, left_index=True, right_index=True).sort_values(by='0_x', ascending=False)[0:17]\n",
    "\n"
   ]
  },
  {
   "cell_type": "code",
   "execution_count": 33,
   "metadata": {},
   "outputs": [
    {
     "data": {
      "text/plain": [
       "intervention_category\n",
       "Public Announcement                                   195\n",
       "General case announcement                             156\n",
       "Administrative flexibility                            69 \n",
       "Social Distancing Announcement                        58 \n",
       "Healthcare facility restrictions                      57 \n",
       "Declaration of emergency (or similar)                 44 \n",
       "Emergency social services funding                     38 \n",
       "Public Reassurance                                    36 \n",
       "Health workforce task-shifting                        35 \n",
       "Public park closure                                   33 \n",
       "Recommended self-isolation                            29 \n",
       "Improve testing capacity                              28 \n",
       "Emergency economic funding                            26 \n",
       "Employment Protections                                26 \n",
       "Social Service provider restrictions                  25 \n",
       "Increased sanitation measures                         24 \n",
       "Creation of command center                            24 \n",
       "Recreational / Entertainment Facility Closure         24 \n",
       "Government building closure                           23 \n",
       "First case announcement                               21 \n",
       "Education or Work from Home                           17 \n",
       "First death announcement                              16 \n",
       "Public event/ meeting cancellation or postponement    16 \n",
       "Manufacturing repurposing                             16 \n",
       "Restaurant visiting restrictions                      14 \n",
       "Travel Restriction (Internal)                         14 \n",
       "Emergency healthcare funding                          14 \n",
       "Non-essential workplace closure                       13 \n",
       "Correctional facility restrictions                    12 \n",
       "Public park restrictions                              12 \n",
       "Self-monitored quarantine                             10 \n",
       "Government-sponsored isolation facility               10 \n",
       "Testing Definition Change                             9  \n",
       "Symptom screening                                     9  \n",
       "Court closure                                         7  \n",
       "Travel Restriction (External)                         7  \n",
       "School closure                                        7  \n",
       "Public Face Mask Recommendation                       6  \n",
       "Technology                                            6  \n",
       "Virtual Care Billing Enabled                          6  \n",
       "First multiple case announcement                      6  \n",
       "Retail closure                                        5  \n",
       "Public transit route reduction                        5  \n",
       "Tourism site restrictions                             4  \n",
       "Self-Assessment Tool Released                         3  \n",
       "Public event size restriction (<=5)                   3  \n",
       "Case Definition Change                                3  \n",
       "Self-reported screening                               3  \n",
       "First case resolution announcement                    2  \n",
       "Disclosed Case Reporting Change                       2  \n",
       "Public event size restriction (<=2)                   1  \n",
       "Emergency research funding                            1  \n",
       "Temperature screening                                 1  \n",
       "Electoral poll cancelation                            1  \n",
       "Government-monitored lockdown                         1  \n",
       "dtype: int64"
      ]
     },
     "execution_count": 33,
     "metadata": {},
     "output_type": "execute_result"
    }
   ],
   "source": [
    "full_df[full_df['oxford_government_response_category'].isna()].groupby(by='intervention_category').count().max(axis=1).sort_values(ascending=False)\n"
   ]
  },
  {
   "cell_type": "code",
   "execution_count": 34,
   "metadata": {},
   "outputs": [
    {
     "data": {
      "text/plain": [
       "Text(0.5,0,'count')"
      ]
     },
     "execution_count": 34,
     "metadata": {},
     "output_type": "execute_result"
    },
    {
     "data": {
      "image/png": "[encoded data removed]",
      "text/plain": [
       "<Figure size 576x1008 with 1 Axes>"
      ]
     },
     "metadata": {},
     "output_type": "display_data"
    }
   ],
   "source": [
    "\n",
    "full_df.groupby(by=\"intervention_category\").count().max(axis=1).sort_values(ascending=False).plot.barh(log=True, figsize=(8,14))\n",
    "plt.xlabel('count')\n"
   ]
  },
  {
   "cell_type": "markdown",
   "metadata": {},
   "source": [
    "# Sources\n",
    "\n",
    "Looking at unique source urls, organizations, and source types"
   ]
  },
  {
   "cell_type": "code",
   "execution_count": 35,
   "metadata": {},
   "outputs": [
    {
     "data": {
      "text/plain": [
       "(241,)"
      ]
     },
     "execution_count": 35,
     "metadata": {},
     "output_type": "execute_result"
    }
   ],
   "source": [
    "a = full_df['source_organization'].unique()\n",
    "a.shape"
   ]
  },
  {
   "cell_type": "code",
   "execution_count": 36,
   "metadata": {},
   "outputs": [],
   "source": [
    "b = full_df['source_organization_2'].unique()"
   ]
  },
  {
   "cell_type": "code",
   "execution_count": 37,
   "metadata": {},
   "outputs": [
    {
     "data": {
      "text/plain": [
       "241"
      ]
     },
     "execution_count": 37,
     "metadata": {},
     "output_type": "execute_result"
    }
   ],
   "source": [
    "all_sources = list(set(a) | set(a))\n",
    "len(all_sources)"
   ]
  },
  {
   "cell_type": "markdown",
   "metadata": {},
   "source": [
    "## NPI: Fiscal Measures\n",
    "\n",
    "Show investments by province or subregion"
   ]
  },
  {
   "cell_type": "code",
   "execution_count": 38,
   "metadata": {
    "scrolled": false
   },
   "outputs": [],
   "source": [
    "#fig, ax = plt.subplots(figsize=(12,10))\n",
    "\n",
    "dates = pd.date_range(start='03-01-2020', end='04-20-2020', name='dates').to_series() #mm-dd-yyyy\n",
    "gb = provinces_df[provinces_df['oxford_fiscal_measure_cad'].notna()][['start_date', 'region', 'oxford_fiscal_measure_cad']].groupby(by='region')\n",
    "provinces_fiscal = pd.DataFrame(dates)\n",
    "\n",
    "for g_name, g_df in gb:\n",
    "    all_dates_df = g_df.join(dates, on='start_date', how='right')\n",
    "    all_dates_df['oxford_fiscal_measure_cad'] = all_dates_df['oxford_fiscal_measure_cad'].fillna(0)\n",
    "    all_dates_df = all_dates_df.sort_values(by='start_date', ascending=True)\n",
    "    all_dates_df['cumulative'] = all_dates_df['oxford_fiscal_measure_cad'].cumsum(axis=0)\n",
    "    all_dates_df.set_index('start_date')\n",
    "    all_dates_df = all_dates_df.groupby(by='start_date').sum()\n",
    "\n",
    "    provinces_fiscal[g_name] = all_dates_df['cumulative']\n",
    "\n",
    "#plt.yscale('log')\n",
    "#plt.title('')\n",
    "#plt.ylabel('Fiscal Interventions ($)')\n",
    "#plt.xlabel('Date')\n",
    "\n",
    "#provinces_fiscal"
   ]
  },
  {
   "cell_type": "code",
   "execution_count": 39,
   "metadata": {},
   "outputs": [
    {
     "name": "stdout",
     "output_type": "stream",
     "text": [
      "WARNING: Not Correct Yet\n"
     ]
    },
    {
     "data": {
      "text/plain": [
       "<matplotlib.axes._subplots.AxesSubplot at 0x7f1cd55b70f0>"
      ]
     },
     "execution_count": 39,
     "metadata": {},
     "output_type": "execute_result"
    },
    {
     "data": {
      "image/png": "[encoded data removed]",
      "text/plain": [
       "<Figure size 432x288 with 1 Axes>"
      ]
     },
     "metadata": {},
     "output_type": "display_data"
    }
   ],
   "source": [
    "print(\"WARNING: Not Correct Yet\")\n",
    "provinces_fiscal.drop(['dates'], axis=1).plot.area()"
   ]
  },
  {
   "cell_type": "code",
   "execution_count": 40,
   "metadata": {},
   "outputs": [
    {
     "data": {
      "image/png": "[encoded data removed]",
      "text/plain": [
       "<Figure size 864x720 with 1 Axes>"
      ]
     },
     "metadata": {},
     "output_type": "display_data"
    }
   ],
   "source": [
    "fig, ax = plt.subplots(figsize=(12,10))\n",
    "\n",
    "dates = pd.date_range(start='03-01-2020', end='04-20-2020', name='dates').to_series() #mm-dd-yyyy\n",
    "gb = provinces_df[provinces_df['oxford_fiscal_measure_cad'].notna()][['start_date', 'region', 'oxford_fiscal_measure_cad']].groupby(by='region')\n",
    "\n",
    "for g_name, g_df in gb:\n",
    "    all_dates_df = g_df.join(dates, on='start_date', how='right')\n",
    "    all_dates_df['oxford_fiscal_measure_cad'] = all_dates_df['oxford_fiscal_measure_cad'].fillna(0)\n",
    "    all_dates_df = all_dates_df.sort_values(by='start_date', ascending=True)\n",
    "    all_dates_df['oxford_fiscal_measure_cad_cumsum'] = all_dates_df['oxford_fiscal_measure_cad'].cumsum(axis=0)\n",
    "    #print(all_dates_df)\n",
    "    all_dates_df.plot(x='start_date', y='oxford_fiscal_measure_cad_cumsum', label=g_name, ax=ax)\n",
    "\n",
    "plt.yscale('log')"
   ]
  },
  {
   "cell_type": "code",
   "execution_count": 41,
   "metadata": {},
   "outputs": [
    {
     "data": {
      "text/plain": [
       "<matplotlib.axes._subplots.AxesSubplot at 0x7f1cd5104d68>"
      ]
     },
     "execution_count": 41,
     "metadata": {},
     "output_type": "execute_result"
    },
    {
     "data": {
      "image/png": "[encoded data removed]",
      "text/plain": [
       "<Figure size 432x288 with 1 Axes>"
      ]
     },
     "metadata": {},
     "output_type": "display_data"
    }
   ],
   "source": [
    "full_df.groupby(by=['region']).count().max(axis=1).plot.barh()"
   ]
  },
  {
   "cell_type": "code",
   "execution_count": 42,
   "metadata": {},
   "outputs": [
    {
     "data": {
      "text/plain": [
       "region\n",
       "All                         2020-03-16 00:00:00\n",
       "British Columbia            2020-03-23 00:00:00\n",
       "Newfoundland and Labrador   2020-03-23 00:00:00\n",
       "Nunavut                     2020-03-23 00:00:00\n",
       "Ontario                     2020-03-23 00:00:00\n",
       "Saskatchewan                2020-03-23 00:00:00\n",
       "Northwest Territories       2020-03-23 12:00:00\n",
       "Quebec                      2020-03-24 00:00:00\n",
       "Nova Scotia                 2020-03-24 12:00:00\n",
       "Prince Edward Island        2020-03-25 00:00:00\n",
       "New Brunswick               2020-03-26 00:00:00\n",
       "Alberta                     2020-03-27 00:00:00\n",
       "Yukon                       2020-03-27 00:00:00\n",
       "Manitoba                    2020-04-02 12:00:00\n",
       "Name: start_date, dtype: datetime64[ns]"
      ]
     },
     "execution_count": 42,
     "metadata": {},
     "output_type": "execute_result"
    }
   ],
   "source": [
    "full_df.groupby(by=['region'])['start_date'].quantile(0.5).sort_values()"
   ]
  },
  {
   "cell_type": "markdown",
   "metadata": {},
   "source": [
    "# NPI: Distribution of Events"
   ]
  },
  {
   "cell_type": "code",
   "execution_count": 43,
   "metadata": {},
   "outputs": [
    {
     "data": {
      "text/plain": [
       "Timestamp('2020-03-24 00:00:00')"
      ]
     },
     "execution_count": 43,
     "metadata": {},
     "output_type": "execute_result"
    }
   ],
   "source": [
    "full_df['start_date'].quantile(0.5)"
   ]
  },
  {
   "cell_type": "code",
   "execution_count": 44,
   "metadata": {},
   "outputs": [
    {
     "data": {
      "text/plain": [
       "Timestamp('2020-03-25 00:00:00')"
      ]
     },
     "execution_count": 44,
     "metadata": {},
     "output_type": "execute_result"
    }
   ],
   "source": [
    "provinces_df['start_date'].quantile(0.5)"
   ]
  },
  {
   "cell_type": "code",
   "execution_count": 45,
   "metadata": {},
   "outputs": [
    {
     "data": {
      "text/plain": [
       "Timestamp('2020-03-24 00:00:00')"
      ]
     },
     "execution_count": 45,
     "metadata": {},
     "output_type": "execute_result"
    }
   ],
   "source": [
    "full_df['start_date'].quantile(0.5)"
   ]
  },
  {
   "cell_type": "code",
   "execution_count": 46,
   "metadata": {},
   "outputs": [
    {
     "data": {
      "text/plain": [
       "region\n",
       "Alberta                     2020-03-27 00:00:00\n",
       "British Columbia            2020-03-23 00:00:00\n",
       "Manitoba                    2020-04-05 00:00:00\n",
       "New Brunswick               2020-03-26 00:00:00\n",
       "Newfoundland and Labrador   2020-03-23 00:00:00\n",
       "Northwest Territories       2020-03-23 12:00:00\n",
       "Nova Scotia                 2020-03-27 00:00:00\n",
       "Nunavut                     2020-03-23 00:00:00\n",
       "Ontario                     2020-03-23 00:00:00\n",
       "Prince Edward Island        2020-03-25 00:00:00\n",
       "Quebec                      2020-03-25 00:00:00\n",
       "Saskatchewan                2020-03-23 00:00:00\n",
       "Yukon                       2020-03-27 00:00:00\n",
       "Name: start_date, dtype: datetime64[ns]"
      ]
     },
     "execution_count": 46,
     "metadata": {},
     "output_type": "execute_result"
    }
   ],
   "source": [
    "median_dates = provinces_df.groupby(by='region')['start_date'].quantile(0.5)\n",
    "median_dates"
   ]
  },
  {
   "cell_type": "code",
   "execution_count": 47,
   "metadata": {},
   "outputs": [
    {
     "data": {
      "text/plain": [
       "intervention_category\n",
       "Administrative flexibility                           2020-03-18\n",
       "Border closure                                       2020-03-16\n",
       "Case Definition Change                               2020-03-23\n",
       "Correctional facility restrictions                   2020-03-13\n",
       "Court closure                                        2020-03-15\n",
       "Creation of command center                           2020-03-02\n",
       "Declaration of emergency (or similar)                2020-03-13\n",
       "Disclosed Case Reporting Change                      2020-03-30\n",
       "Education or Work from Home                          2020-03-13\n",
       "Electoral poll cancelation                           2020-03-14\n",
       "Emergency economic funding                           2020-03-16\n",
       "Emergency healthcare funding                         2020-03-10\n",
       "Emergency research funding                           2020-03-11\n",
       "Emergency social services funding                    2020-03-17\n",
       "Employment Protections                               2020-03-10\n",
       "First case announcement                              2020-01-25\n",
       "First case resolution announcement                   2020-02-19\n",
       "First death announcement                             2020-03-09\n",
       "First multiple case announcement                     2020-02-04\n",
       "General case announcement                            2020-01-27\n",
       "Government building closure                          2020-03-16\n",
       "Government-monitored lockdown                        2020-04-01\n",
       "Government-monitored quarantine                      2020-03-22\n",
       "Government-sponsored isolation facility              2020-03-24\n",
       "Health workforce task-shifting                       2020-03-15\n",
       "Healthcare facility restrictions                     2020-03-11\n",
       "Improve testing capacity                             2020-01-20\n",
       "Increased sanitation measures                        2020-03-18\n",
       "Manufacturing repurposing                            2020-03-22\n",
       "Non-essential workplace closure                      2020-03-15\n",
       "Public Announcement                                  2020-01-07\n",
       "Public Face Mask Recommendation                      2020-04-07\n",
       "Public Reassurance                                   2020-01-31\n",
       "Public event size restriction (<=10)                 2020-03-19\n",
       "Public event size restriction (<=2)                  2020-03-22\n",
       "Public event size restriction (<=25)                 2020-03-17\n",
       "Public event size restriction (<=250)                2020-03-12\n",
       "Public event size restriction (<=5)                  2020-03-28\n",
       "Public event size restriction (<=50)                 2020-03-13\n",
       "Public event/ meeting cancellation or postponement   2020-03-07\n",
       "Public park closure                                  2020-03-14\n",
       "Public park restrictions                             2020-03-15\n",
       "Recommended self-isolation                           2020-02-04\n",
       "Recreational / Entertainment Facility Closure        2020-03-12\n",
       "Restaurant visiting restrictions                     2020-03-15\n",
       "Retail closure                                       2020-03-17\n",
       "School closure                                       2020-03-13\n",
       "Self-Assessment Tool Released                        2020-03-13\n",
       "Self-monitored quarantine                            2020-03-04\n",
       "Self-reported screening                              2020-01-21\n",
       "Social Distancing Announcement                       2020-03-03\n",
       "Social Service provider restrictions                 2020-03-16\n",
       "Symptom screening                                    2020-01-21\n",
       "Technology                                           2020-01-26\n",
       "Temperature screening                                2020-04-10\n",
       "Testing Definition Change                            2020-01-28\n",
       "Tourism site restrictions                            2020-03-13\n",
       "Travel Restriction (External)                        2020-03-04\n",
       "Travel Restriction (Internal)                        2020-03-09\n",
       "Virtual Care Billing Enabled                         2020-03-12\n",
       "Name: start_date, dtype: datetime64[ns]"
      ]
     },
     "execution_count": 47,
     "metadata": {},
     "output_type": "execute_result"
    }
   ],
   "source": [
    "min_dates = provinces_df.groupby(by='intervention_category')['start_date'].min()\n",
    "min_dates"
   ]
  },
  {
   "cell_type": "code",
   "execution_count": 48,
   "metadata": {},
   "outputs": [
    {
     "name": "stdout",
     "output_type": "stream",
     "text": [
      "The median intervention dates for provinces and territories falls between  2020-03-23 00:00:00  and  2020-04-05 00:00:00\n"
     ]
    }
   ],
   "source": [
    "print(\"The median intervention dates for provinces and territories falls between \", median_dates.min(), \" and \", median_dates.max())"
   ]
  },
  {
   "cell_type": "code",
   "execution_count": 49,
   "metadata": {},
   "outputs": [
    {
     "data": {
      "text/plain": [
       "subregion\n",
       "Calgary              2020-04-02 00:00:00\n",
       "Edmonton             2020-03-28 00:00:00\n",
       "Gatineau             2020-03-24 00:00:00\n",
       "Halifax              2020-03-22 00:00:00\n",
       "Hamilton             2020-03-19 00:00:00\n",
       "Kelowna              2020-03-24 00:00:00\n",
       "Kitchener-Waterloo   2020-03-17 12:00:00\n",
       "London               2020-03-30 00:00:00\n",
       "Montreal             2020-03-24 00:00:00\n",
       "Niagara              2020-03-21 00:00:00\n",
       "Oshawa               2020-03-19 00:00:00\n",
       "Ottawa               2020-04-06 00:00:00\n",
       "Quebec City          2020-03-21 12:00:00\n",
       "Regina               2020-03-20 00:00:00\n",
       "Saskatoon            2020-03-23 00:00:00\n",
       "St. John's           2020-03-23 00:00:00\n",
       "Toronto              2020-03-21 00:00:00\n",
       "Vancouver            2020-03-20 00:00:00\n",
       "Victoria             2020-03-22 00:00:00\n",
       "Windsor              2020-03-17 00:00:00\n",
       "Winnipeg             2020-03-20 12:00:00\n",
       "Name: start_date, dtype: datetime64[ns]"
      ]
     },
     "execution_count": 49,
     "metadata": {},
     "output_type": "execute_result"
    }
   ],
   "source": [
    "cma_med_dates = full_df.dropna(subset=['subregion']).groupby(by=['subregion'])['start_date'].quantile(0.5)\n",
    "cma_med_dates"
   ]
  },
  {
   "cell_type": "code",
   "execution_count": 50,
   "metadata": {},
   "outputs": [
    {
     "name": "stdout",
     "output_type": "stream",
     "text": [
      "The median intervention dates for CMAs falls between  2020-03-17 00:00:00  and  2020-04-06 00:00:00\n"
     ]
    }
   ],
   "source": [
    "print(\"The median intervention dates for CMAs falls between \", cma_med_dates.min(), \" and \", cma_med_dates.max())"
   ]
  },
  {
   "cell_type": "code",
   "execution_count": 51,
   "metadata": {},
   "outputs": [
    {
     "name": "stdout",
     "output_type": "stream",
     "text": [
      "DatetimeIndex(['2019-12-31', '2020-01-31', '2020-02-29', '2020-03-31'], dtype='datetime64[ns]', freq='M')\n"
     ]
    },
    {
     "data": {
      "image/png": "[encoded data removed]",
      "text/plain": [
       "<Figure size 720x288 with 1 Axes>"
      ]
     },
     "metadata": {},
     "output_type": "display_data"
    }
   ],
   "source": [
    "import matplotlib.dates as mdates\n",
    "import matplotlib as mpl\n",
    "\n",
    "fig, ax = plt.subplots(figsize=(10,4))\n",
    "\n",
    "xticks = pd.date_range(start='12-01-2019', end='03-31-2020', freq='M')\n",
    "#subset = full_df[full_df['start_date'] < pd.to_datetime('04-01-2020')]\n",
    "ts = full_df.groupby(by=['start_date'])['intervention_category'].count()\n",
    "\n",
    "cmap = mpl.cm.get_cmap('viridis')\n",
    "plt.bar(ts.index, ts.values, color=cmap(0))\n",
    "\n",
    "plt.xlabel('Date')\n",
    "plt.ylabel('Intervention Count')\n",
    "plt.gca().xaxis.set_major_locator(mdates.MonthLocator())\n",
    "month_format = mdates.DateFormatter('%d %b')\n",
    "plt.gca().xaxis.set_major_formatter(month_format)\n",
    "print(xticks)"
   ]
  },
  {
   "cell_type": "code",
   "execution_count": 96,
   "metadata": {},
   "outputs": [],
   "source": [
    "ts = pd.DataFrame(full_df.groupby(by=['start_date'])['intervention_category'].count())\n",
    "ts['all_count'] = full_df.groupby(by=['start_date'])['intervention_category'].count()\n",
    "ts['province_count'] = provinces_df.groupby(by=['start_date'])['intervention_category'].count()\n",
    "ts['federal_count'] = federal_df.groupby(by=['start_date'])['intervention_category'].count()\n",
    "ts = ts.drop(['intervention_category'], axis=1)\n",
    "ts.to_csv('figure1/figure1_table.csv')"
   ]
  },
  {
   "cell_type": "code",
   "execution_count": 97,
   "metadata": {},
   "outputs": [
    {
     "name": "stdout",
     "output_type": "stream",
     "text": [
      "DatetimeIndex(['2019-12-31', '2020-01-31', '2020-02-29', '2020-03-31'], dtype='datetime64[ns]', freq='M')\n"
     ]
    },
    {
     "data": {
      "image/png": "[encoded data removed]",
      "text/plain": [
       "<Figure size 720x288 with 1 Axes>"
      ]
     },
     "metadata": {},
     "output_type": "display_data"
    }
   ],
   "source": [
    "import matplotlib.dates as mdates\n",
    "import matplotlib as mpl\n",
    "\n",
    "fig, ax = plt.subplots(figsize=(10, 4))\n",
    "\n",
    "xticks = pd.date_range(start='12-01-2019', end='04-19-2020', freq='M')\n",
    "#subset = full_df[full_df['start_date'] < pd.to_datetime('04-01-2020')]\n",
    "\n",
    "\n",
    "cmap = mpl.cm.get_cmap('magma')\n",
    "\n",
    "\n",
    "ts = full_df.groupby(by=['start_date'])['intervention_category'].count()\n",
    "plt.bar(ts.index, ts.values, color=cmap(0.8), label='All')\n",
    "\n",
    "ts = provinces_df.groupby(by=['start_date'])['intervention_category'].count()\n",
    "plt.bar(ts.index, ts.values, color=cmap(0.5), label='Provincial')\n",
    "\n",
    "ts = federal_df.groupby(by=['start_date'])['intervention_category'].count()\n",
    "plt.bar(ts.index, ts.values, color=cmap(0.1), label='Federal')\n",
    "\n",
    "\n",
    "plt.xlabel('Date')\n",
    "plt.ylabel('Intervention Count')\n",
    "plt.gca().xaxis.set_major_locator(mdates.MonthLocator())\n",
    "month_format = mdates.DateFormatter('%d %b')\n",
    "plt.gca().xaxis.set_major_formatter(month_format)\n",
    "print(xticks)\n",
    "plt.legend()\n",
    "\n",
    "#ts = full_df.subtract(provinces_df).groupby(by=['start_date'])['intervention_category'].count()\n",
    "#cmap = mpl.cm.get_cmap('viridis')\n",
    "#plt.bar(ts.index, ts.values, color=cmap(.5), alpha=0.4)\n",
    "plt.savefig('figure1/figure1.png', dpi=300)"
   ]
  },
  {
   "cell_type": "code",
   "execution_count": 53,
   "metadata": {},
   "outputs": [],
   "source": [
    "names = full_df['region']"
   ]
  },
  {
   "cell_type": "code",
   "execution_count": 54,
   "metadata": {},
   "outputs": [
    {
     "data": {
      "text/plain": [
       "(array([ 0,  1,  2,  3,  4,  5,  6,  7,  8,  9, 10, 11, 12]),\n",
       " <a list of 13 Text xticklabel objects>)"
      ]
     },
     "execution_count": 54,
     "metadata": {},
     "output_type": "execute_result"
    },
    {
     "data": {
      "image/png": "[encoded data removed]",
      "text/plain": [
       "<Figure size 720x288 with 1 Axes>"
      ]
     },
     "metadata": {},
     "output_type": "display_data"
    }
   ],
   "source": [
    "import matplotlib.ticker as ticker\n",
    "provinces_df.dropna(subset=['region']).groupby(by=['region'])['intervention_category'].nunique().plot.bar(figsize=(10,4), cmap='viridis')\n",
    "plt.ylabel('Number of unique intervention categories recorded')\n",
    "\n",
    "#@ticker.FuncFormatter\n",
    "#def major_formatter(x, pos):\n",
    "#    return str(x).replace('(', '').replace('(', '')\n",
    "#plt.gca().xaxis.set_major_formatter(major_formatter)\n",
    "plt.xticks(rotation=45, ha='right')\n"
   ]
  },
  {
   "cell_type": "code",
   "execution_count": 55,
   "metadata": {},
   "outputs": [
    {
     "data": {
      "text/plain": [
       "(array([ 0,  1,  2,  3,  4,  5,  6,  7,  8,  9, 10, 11, 12, 13, 14, 15, 16,\n",
       "        17, 18, 19, 20]), <a list of 21 Text xticklabel objects>)"
      ]
     },
     "execution_count": 55,
     "metadata": {},
     "output_type": "execute_result"
    },
    {
     "data": {
      "image/png": "[encoded data removed]",
      "text/plain": [
       "<Figure size 720x288 with 1 Axes>"
      ]
     },
     "metadata": {},
     "output_type": "display_data"
    }
   ],
   "source": [
    "import matplotlib.ticker as ticker\n",
    "subregions = full_df.dropna(subset=['subregion']).groupby(by=['subregion'])['intervention_category'].nunique()\n",
    "\n",
    "subregions.plot.bar(figsize=(10,4), cmap='viridis')\n",
    "plt.ylabel('Number of unique intervention categories recorded')\n",
    "\n",
    "#@ticker.FuncFormatter\n",
    "#def major_formatter(x, pos):\n",
    "#    return str(x).replace('(', '').replace('(', '')\n",
    "#plt.gca().xaxis.set_major_formatter(major_formatter)\n",
    "plt.xticks(rotation=45, ha='right')\n"
   ]
  },
  {
   "cell_type": "code",
   "execution_count": 56,
   "metadata": {},
   "outputs": [
    {
     "data": {
      "text/plain": [
       "Text(0.5,0,'Number of unique Oxford interventions recorded')"
      ]
     },
     "execution_count": 56,
     "metadata": {},
     "output_type": "execute_result"
    },
    {
     "data": {
      "image/png": "[encoded data removed]",
      "text/plain": [
       "<Figure size 432x288 with 1 Axes>"
      ]
     },
     "metadata": {},
     "output_type": "display_data"
    }
   ],
   "source": [
    "full_df.fillna('Province').groupby(by=['region', 'subregion'])['oxford_government_response_category'].nunique().plot.barh()\n",
    "plt.xlabel('Number of unique Oxford interventions recorded')\n"
   ]
  },
  {
   "cell_type": "code",
   "execution_count": 57,
   "metadata": {},
   "outputs": [
    {
     "data": {
      "text/plain": [
       "Text(0,0.5,'Unique Intervention Categories Recorded')"
      ]
     },
     "execution_count": 57,
     "metadata": {},
     "output_type": "execute_result"
    },
    {
     "data": {
      "image/png": "[encoded data removed]",
      "text/plain": [
       "<Figure size 432x288 with 1 Axes>"
      ]
     },
     "metadata": {},
     "output_type": "display_data"
    }
   ],
   "source": [
    "provinces_df.groupby(by='region')['intervention_category'].nunique().plot.barh()\n",
    "plt.ylabel('Unique Intervention Categories Recorded')"
   ]
  },
  {
   "cell_type": "code",
   "execution_count": 58,
   "metadata": {},
   "outputs": [
    {
     "data": {
      "text/plain": [
       "Text(0.5,0,'Number of unique interventions recorded')"
      ]
     },
     "execution_count": 58,
     "metadata": {},
     "output_type": "execute_result"
    },
    {
     "data": {
      "image/png": "[encoded data removed]",
      "text/plain": [
       "<Figure size 432x288 with 1 Axes>"
      ]
     },
     "metadata": {},
     "output_type": "display_data"
    }
   ],
   "source": [
    "full_df[full_df['subregion'].isna()].groupby(by=['region'])['intervention_category'].nunique().plot.barh()\n",
    "plt.xlabel('Number of unique interventions recorded')\n"
   ]
  },
  {
   "cell_type": "code",
   "execution_count": 59,
   "metadata": {},
   "outputs": [
    {
     "data": {
      "text/plain": [
       "Text(0.5,0,'Number of unique Oxford response measures recorded')"
      ]
     },
     "execution_count": 59,
     "metadata": {},
     "output_type": "execute_result"
    },
    {
     "data": {
      "image/png": "[encoded data removed]",
      "text/plain": [
       "<Figure size 432x288 with 1 Axes>"
      ]
     },
     "metadata": {},
     "output_type": "display_data"
    }
   ],
   "source": [
    "full_df[full_df['subregion'].isna()].groupby(by=['region'])['oxford_government_response_category'].nunique().plot.barh()\n",
    "plt.xlabel('Number of unique Oxford response measures recorded')\n"
   ]
  },
  {
   "cell_type": "code",
   "execution_count": 60,
   "metadata": {},
   "outputs": [
    {
     "data": {
      "text/plain": [
       "Text(0.5,0,'Oxford Fiscal Measure (CAD) recorded')"
      ]
     },
     "execution_count": 60,
     "metadata": {},
     "output_type": "execute_result"
    },
    {
     "data": {
      "image/png": "[encoded data removed]",
      "text/plain": [
       "<Figure size 432x288 with 1 Axes>"
      ]
     },
     "metadata": {},
     "output_type": "display_data"
    }
   ],
   "source": [
    "full_df[full_df['subregion'].isna()].groupby(by=['region'])['oxford_fiscal_measure_cad'].sum().plot.barh()\n",
    "plt.xlabel('Oxford Fiscal Measure (CAD) recorded')\n"
   ]
  },
  {
   "cell_type": "code",
   "execution_count": 61,
   "metadata": {},
   "outputs": [
    {
     "data": {
      "text/plain": [
       "region\n",
       "Alberta                      8.628300e+09\n",
       "All                          2.474820e+10\n",
       "British Columbia             9.875500e+09\n",
       "Manitoba                     1.638265e+09\n",
       "New Brunswick                1.845016e+08\n",
       "Newfoundland and Labrador    3.205000e+08\n",
       "Northwest Territories        1.595740e+08\n",
       "Nova Scotia                  2.475100e+08\n",
       "Nunavut                      0.000000e+00\n",
       "Ontario                      1.711940e+10\n",
       "Prince Edward Island         5.106000e+07\n",
       "Quebec                       3.374500e+09\n",
       "Saskatchewan                 1.013000e+08\n",
       "Yukon                        2.170000e+07\n",
       "Name: oxford_fiscal_measure_cad, dtype: float64"
      ]
     },
     "execution_count": 61,
     "metadata": {},
     "output_type": "execute_result"
    }
   ],
   "source": [
    "full_df[full_df['subregion'].isna()].groupby(by=['region'])['oxford_fiscal_measure_cad'].sum()"
   ]
  },
  {
   "cell_type": "code",
   "execution_count": 62,
   "metadata": {},
   "outputs": [
    {
     "data": {
      "text/plain": [
       "Text(0,0.5,'$ / person')"
      ]
     },
     "execution_count": 62,
     "metadata": {},
     "output_type": "execute_result"
    },
    {
     "data": {
      "image/png": "[encoded data removed]",
      "text/plain": [
       "<Figure size 432x288 with 1 Axes>"
      ]
     },
     "metadata": {},
     "output_type": "display_data"
    }
   ],
   "source": [
    "df = pd.DataFrame(provinces_df.groupby(by='region')['oxford_fiscal_measure_cad'].sum())\n",
    "df['region'] = df.index\n",
    "df = df.merge(population_df, on='region', how='left')\n",
    "df['fiscal_measure_cad_popnorm'] = df['oxford_fiscal_measure_cad'] /  df['population_q1_2020']\n",
    "df = df.sort_values(by='fiscal_measure_cad_popnorm', ascending=False)\n",
    "df.plot.bar(x='region', y='fiscal_measure_cad_popnorm')\n",
    "plt.ylabel(\"$ / person\")"
   ]
  },
  {
   "cell_type": "code",
   "execution_count": 63,
   "metadata": {},
   "outputs": [
    {
     "data": {
      "text/plain": [
       "Text(0,0.5,'fiscal measures (CAD)')"
      ]
     },
     "execution_count": 63,
     "metadata": {},
     "output_type": "execute_result"
    },
    {
     "data": {
      "image/png": "[encoded data removed]",
      "text/plain": [
       "<Figure size 432x288 with 1 Axes>"
      ]
     },
     "metadata": {},
     "output_type": "display_data"
    }
   ],
   "source": [
    "provinces_df.groupby(by='region')['oxford_fiscal_measure_cad'].sum().sort_values(ascending=False).plot.bar()\n",
    "plt.ylabel('fiscal measures (CAD)')"
   ]
  },
  {
   "cell_type": "markdown",
   "metadata": {},
   "source": [
    "# Comparing Provincial and Municipal Interventions of the Same Type"
   ]
  },
  {
   "cell_type": "code",
   "execution_count": 64,
   "metadata": {},
   "outputs": [
    {
     "ename": "NameError",
     "evalue": "name 'rec_ont_date' is not defined",
     "output_type": "error",
     "traceback": [
      "\u001b[0;31m---------------------------------------------------------------------------\u001b[0m",
      "\u001b[0;31mNameError\u001b[0m                                 Traceback (most recent call last)",
      "\u001b[0;32m<ipython-input-64-87aee8d9dace>\u001b[0m in \u001b[0;36m<module>\u001b[0;34m()\u001b[0m\n\u001b[1;32m     29\u001b[0m \u001b[0;31m#rec_ont_date = rec_ont['start_date'].min()\u001b[0m\u001b[0;34m\u001b[0m\u001b[0;34m\u001b[0m\u001b[0m\n\u001b[1;32m     30\u001b[0m \u001b[0;34m\u001b[0m\u001b[0m\n\u001b[0;32m---> 31\u001b[0;31m \u001b[0mplt\u001b[0m\u001b[0;34m.\u001b[0m\u001b[0maxvline\u001b[0m\u001b[0;34m(\u001b[0m\u001b[0mx\u001b[0m\u001b[0;34m=\u001b[0m\u001b[0mrec_ont_date\u001b[0m\u001b[0;34m,\u001b[0m \u001b[0mlabel\u001b[0m\u001b[0;34m=\u001b[0m\u001b[0;34m'First provincial public event cancellation'\u001b[0m\u001b[0;34m,\u001b[0m \u001b[0mcolor\u001b[0m\u001b[0;34m=\u001b[0m\u001b[0mcmap\u001b[0m\u001b[0;34m(\u001b[0m\u001b[0;36m0.25\u001b[0m\u001b[0;34m)\u001b[0m\u001b[0;34m,\u001b[0m \u001b[0mlinewidth\u001b[0m\u001b[0;34m=\u001b[0m\u001b[0;36m2\u001b[0m\u001b[0;34m)\u001b[0m\u001b[0;34m\u001b[0m\u001b[0m\n\u001b[0m\u001b[1;32m     32\u001b[0m \u001b[0mplt\u001b[0m\u001b[0;34m.\u001b[0m\u001b[0maxvline\u001b[0m\u001b[0;34m(\u001b[0m\u001b[0mx\u001b[0m\u001b[0;34m=\u001b[0m\u001b[0msoc_ont_date\u001b[0m\u001b[0;34m,\u001b[0m \u001b[0mlabel\u001b[0m\u001b[0;34m=\u001b[0m\u001b[0;34m'First provincial social distancing announcement'\u001b[0m\u001b[0;34m,\u001b[0m \u001b[0mcolor\u001b[0m\u001b[0;34m=\u001b[0m\u001b[0mcmap\u001b[0m\u001b[0;34m(\u001b[0m\u001b[0;36m0.65\u001b[0m\u001b[0;34m)\u001b[0m\u001b[0;34m,\u001b[0m \u001b[0mlinewidth\u001b[0m\u001b[0;34m=\u001b[0m\u001b[0;36m2\u001b[0m\u001b[0;34m)\u001b[0m\u001b[0;34m\u001b[0m\u001b[0m\n\u001b[1;32m     33\u001b[0m \u001b[0;34m\u001b[0m\u001b[0m\n",
      "\u001b[0;31mNameError\u001b[0m: name 'rec_ont_date' is not defined"
     ]
    },
    {
     "data": {
      "image/png": "[encoded data removed]",
      "text/plain": [
       "<Figure size 720x360 with 1 Axes>"
      ]
     },
     "metadata": {},
     "output_type": "display_data"
    }
   ],
   "source": [
    "from matplotlib.dates import MO\n",
    "fig = matplotlib.pyplot.gcf()\n",
    "fig.set_size_inches(10, 5)\n",
    "\n",
    "ont_df = full_df[full_df['region'] == 'Ontario']\n",
    "\n",
    "cmap = mpl.cm.get_cmap('magma')\n",
    "\n",
    "soc = ont_df[ont_df['intervention_category'] == 'Social Distancing Announcement']\n",
    "#rec = ont_df[ont_df['intervention_category'] == 'Recreational / Entertainment Facility Closure']\n",
    "pem = ont_df[ont_df['intervention_category'] == 'Public event/ meeting cancellation or postponement']\n",
    "#park = ont_df[ont_df['intervention_category'] == 'Public park closure']\n",
    "\n",
    "start = datetime(2020, 3, 9)\n",
    "end = datetime(2020, 4, 1) \n",
    "drange=(start, end)\n",
    "\n",
    "pem.groupby('subregion').min()['start_date'].hist(bins=50, range=drange, color=cmap(0.35),  alpha=0.9, cumulative=True, label='Public event cancellation')\n",
    "#rec.groupby('subregion').min()['start_date'].hist(bins=30, color=cmap(0.8), alpha=0.5, cumulative=True, label='Recreational / Entertainment Facility Closure')\n",
    "soc.groupby('subregion').min()['start_date'].hist(bins=50, range=drange, color=cmap(0.6), alpha=0.6, cumulative=True, label='Social distancing announcements')\n",
    "#park.groupby('subregion').min()['start_date'].hist(color='red', alpha=0.5, label='Public park closure')\n",
    "\n",
    "a = soc[soc['subregion'].isna()]\n",
    "soc_ont = a[a['intervention_category'] == 'Social Distancing Announcement']\n",
    "soc_ont_date = soc_ont['start_date'].min()\n",
    "\n",
    "#a = rec[rec['subregion'].isna()]\n",
    "#rec_ont = a[a['intervention_category'] == 'Recreational / Entertainment Facility Closure']\n",
    "#rec_ont_date = rec_ont['start_date'].min()\n",
    "\n",
    "plt.axvline(x=rec_ont_date, label='First provincial public event cancellation', color=cmap(0.25), linewidth=2)\n",
    "plt.axvline(x=soc_ont_date, label='First provincial social distancing announcement', color=cmap(0.65), linewidth=2)\n",
    "\n",
    "plt.xticks(rotation=45, ha='right')\n",
    "plt.legend(loc=\"lower right\")\n",
    "plt.title('Municipality interventions over time in Ontario compared with Provincial interventions')\n",
    "\n",
    "plt.xlabel('Date')\n",
    "plt.ylabel('Municipalities with intervention')\n",
    "plt.gca().xaxis.set_major_locator(mdates.WeekdayLocator(byweekday=(MO)))\n",
    "month_format = mdates.DateFormatter('%d %b')\n",
    "plt.gca().xaxis.set_major_formatter(month_format)\n"
   ]
  },
  {
   "cell_type": "markdown",
   "metadata": {},
   "source": [
    "## Heatmap of cumulative municipal top intervention categories"
   ]
  },
  {
   "cell_type": "code",
   "execution_count": 65,
   "metadata": {},
   "outputs": [],
   "source": [
    "# Thanks to matplotlib documentation for this\n",
    "\n",
    "def heatmap(data, row_labels, col_labels, ax=None,\n",
    "            cbar_kw={}, cbarlabel=\"\", **kwargs):\n",
    "    \"\"\"\n",
    "    Create a heatmap from a numpy array and two lists of labels.\n",
    "\n",
    "    Parameters\n",
    "    ----------\n",
    "    data\n",
    "        A 2D numpy array of shape (N, M).\n",
    "    row_labels\n",
    "        A list or array of length N with the labels for the rows.\n",
    "    col_labels\n",
    "        A list or array of length M with the labels for the columns.\n",
    "    ax\n",
    "        A `matplotlib.axes.Axes` instance to which the heatmap is plotted.  If\n",
    "        not provided, use current axes or create a new one.  Optional.\n",
    "    cbar_kw\n",
    "        A dictionary with arguments to `matplotlib.Figure.colorbar`.  Optional.\n",
    "    cbarlabel\n",
    "        The label for the colorbar.  Optional.\n",
    "    **kwargs\n",
    "        All other arguments are forwarded to `imshow`.\n",
    "    \"\"\"\n",
    "\n",
    "    if not ax:\n",
    "        ax = plt.gca()\n",
    "\n",
    "    # Plot the heatmap\n",
    "    im = ax.imshow(data, **kwargs)\n",
    "\n",
    "    # Create colorbar\n",
    "    cbar = ax.figure.colorbar(im, ax=ax, **cbar_kw)\n",
    "    cbar.ax.set_ylabel(cbarlabel, rotation=-90, va=\"bottom\")\n",
    "\n",
    "    # We want to show all ticks...\n",
    "    ax.set_xticks(np.arange(data.shape[1]))\n",
    "    ax.set_yticks(np.arange(data.shape[0]))\n",
    "    # ... and label them with the respective list entries.\n",
    "    ax.set_xticklabels(col_labels)\n",
    "    ax.set_yticklabels(row_labels)\n",
    "\n",
    "    # Let the horizontal axes labeling appear on top.\n",
    "    ax.tick_params(top=True, bottom=False,\n",
    "                   labeltop=True, labelbottom=False)\n",
    "\n",
    "    # Rotate the tick labels and set their alignment.\n",
    "    plt.setp(ax.get_xticklabels(), rotation=-30, ha=\"right\",\n",
    "             rotation_mode=\"anchor\")\n",
    "\n",
    "    # Turn spines off and create white grid.\n",
    "    for edge, spine in ax.spines.items():\n",
    "        spine.set_visible(False)\n",
    "\n",
    "    ax.set_xticks(np.arange(data.shape[1]+1)-.5, minor=True)\n",
    "    ax.set_yticks(np.arange(data.shape[0]+1)-.5, minor=True)\n",
    "    ax.grid(which=\"minor\", color=\"w\", linestyle='-', linewidth=3)\n",
    "    ax.tick_params(which=\"minor\", bottom=False, left=False)\n",
    "\n",
    "    return im, cbar\n",
    "\n",
    "def annotate_heatmap(im, data=None, valfmt=\"{x:.2f}\",\n",
    "                     textcolors=[\"black\", \"white\"],\n",
    "                     threshold=None, **textkw):\n",
    "    \"\"\"\n",
    "    A function to annotate a heatmap.\n",
    "\n",
    "    Parameters\n",
    "    ----------\n",
    "    im\n",
    "        The AxesImage to be labeled.\n",
    "    data\n",
    "        Data used to annotate.  If None, the image's data is used.  Optional.\n",
    "    valfmt\n",
    "        The format of the annotations inside the heatmap.  This should either\n",
    "        use the string format method, e.g. \"$ {x:.2f}\", or be a\n",
    "        `matplotlib.ticker.Formatter`.  Optional.\n",
    "    textcolors\n",
    "        A list or array of two color specifications.  The first is used for\n",
    "        values below a threshold, the second for those above.  Optional.\n",
    "    threshold\n",
    "        Value in data units according to which the colors from textcolors are\n",
    "        applied.  If None (the default) uses the middle of the colormap as\n",
    "        separation.  Optional.\n",
    "    **kwargs\n",
    "        All other arguments are forwarded to each call to `text` used to create\n",
    "        the text labels.\n",
    "    \"\"\"\n",
    "\n",
    "    if not isinstance(data, (list, np.ndarray)):\n",
    "        data = im.get_array()\n",
    "\n",
    "    # Normalize the threshold to the images color range.\n",
    "    if threshold is not None:\n",
    "        threshold = im.norm(threshold)\n",
    "    else:\n",
    "        threshold = im.norm(data.max())/2.\n",
    "\n",
    "    # Set default alignment to center, but allow it to be\n",
    "    # overwritten by textkw.\n",
    "    kw = dict(horizontalalignment=\"center\",\n",
    "              verticalalignment=\"center\")\n",
    "    kw.update(textkw)\n",
    "\n",
    "    # Get the formatter in case a string is supplied\n",
    "    if isinstance(valfmt, str):\n",
    "        valfmt = matplotlib.ticker.StrMethodFormatter(valfmt)\n",
    "\n",
    "    # Loop over the data and create a `Text` for each \"pixel\".\n",
    "    # Change the text's color depending on the data.\n",
    "    texts = []\n",
    "    for i in range(data.shape[0]):\n",
    "        for j in range(data.shape[1]):\n",
    "            kw.update(color=textcolors[int(im.norm(data[i, j]) > threshold)])\n",
    "            text = im.axes.text(j, i, valfmt(data[i, j], None), **kw)\n",
    "            texts.append(text)\n",
    "\n",
    "    return texts"
   ]
  },
  {
   "cell_type": "code",
   "execution_count": 66,
   "metadata": {},
   "outputs": [
    {
     "data": {
      "text/plain": [
       "intervention_category\n",
       "Public event/ meeting cancellation or postponement    19\n",
       "Public Announcement                                   19\n",
       "Social Distancing Announcement                        18\n",
       "Recreational / Entertainment Facility Closure         18\n",
       "Public park closure                                   17\n",
       "Declaration of emergency (or similar)                 16\n",
       "Administrative flexibility                            16\n",
       "Government building closure                           15\n",
       "Emergency economic funding                            13\n",
       "Emergency social services funding                     13\n",
       "Name: intervention_category, dtype: int64"
      ]
     },
     "execution_count": 66,
     "metadata": {},
     "output_type": "execute_result"
    }
   ],
   "source": [
    "top_interventions = full_df.groupby(by='subregion')['intervention_category'].value_counts() \\\n",
    "    .groupby(by='intervention_category') \\\n",
    "    .count() \\\n",
    "    .sort_values(ascending=False)[:10] \\\n",
    "    \n",
    "top_interventions"
   ]
  },
  {
   "cell_type": "code",
   "execution_count": 67,
   "metadata": {},
   "outputs": [],
   "source": [
    "cma_population= pd.DataFrame([['Toronto', 5429524],\n",
    "                [\"Montreal\", 3519595],\n",
    "                [\"Vancouver\", 2264823],\n",
    "                [\"Calgary\", 1237656],\n",
    "                [\"Edmonton\", 1062643],\n",
    "                [\"Ottawa\", 989657],\n",
    "                [\"Gatineau\", 989657],\n",
    "                [\"Winnipeg\", 711925],\n",
    "                [\"Quebec City\", 705103],\n",
    "                [\"Hamilton\", 693645],\n",
    "                [\"Kitchener-Waterloo\", 535154],\n",
    "                [\"London\", 383437],\n",
    "                [\"Victoria\", 335696],\n",
    "                [\"Halifax\", 316701],\n",
    "                [\"Oshawa\", 308875],\n",
    "                [\"Windsor\", 287069],\n",
    "                [\"Saskatoon\", 245181],\n",
    "                [\"Niagara\", 229246],\n",
    "                [\"Regina\", 214631],\n",
    "                [\"St. John's\", 178427],\n",
    "                [\"Kelowna\", 151957]], columns=['subregion', 'population'])\n",
    "# Population numbers from Canadian Census 2016"
   ]
  },
  {
   "cell_type": "code",
   "execution_count": 68,
   "metadata": {},
   "outputs": [],
   "source": [
    "filtered_df = full_df[full_df['intervention_category'].isin(top_interventions.index.values)]\n",
    "#filtered_df = filtered_df.groupby(by=['subregion', 'start_date']).nunique()['intervention_category']\n",
    "filtered_df = filtered_df.merge(cma_population, on='subregion')\n",
    "filtered_df = filtered_df.sort_values(by='population', ascending=False)\n",
    "soc_count = filtered_df.groupby(by=['subregion', 'intervention_category'], sort=False).min()['start_date']\n",
    "#soc_count = soc_count.merge(cma_population, on='subregion')\n",
    "\n",
    "xticks = pd.date_range(start='03-08-2020', end='04-19-2020', freq='W')\n",
    "\n",
    "\n",
    "col = ['subregion', *xticks.date]\n",
    "cma_df = pd.DataFrame()\n",
    "\n",
    "for subregion in soc_count.index.get_level_values(0).unique():\n",
    "    dates = soc_count.loc[[subregion]].reset_index()\n",
    "    empty_row = [subregion]\n",
    "    for week_end in xticks.values:\n",
    "        count = dates[dates['start_date'] < week_end]['intervention_category'].count()\n",
    "        empty_row.append(count)\n",
    "    cma_df = cma_df.append([empty_row])\n",
    "    \n",
    "cma_df.columns = col\n",
    "cma_df = cma_df.set_index('subregion')"
   ]
  },
  {
   "cell_type": "code",
   "execution_count": 87,
   "metadata": {},
   "outputs": [],
   "source": [
    "cma_df.to_csv('figure4/figure4_table.csv')"
   ]
  },
  {
   "cell_type": "code",
   "execution_count": 88,
   "metadata": {
    "scrolled": false
   },
   "outputs": [
    {
     "data": {
      "image/png": "[encoded data removed]",
      "text/plain": [
       "<Figure size 720x576 with 2 Axes>"
      ]
     },
     "metadata": {},
     "output_type": "display_data"
    }
   ],
   "source": [
    "#fig, (a0, a1) = plt.subplots(1, 2, gridspec_kw={'width_ratios': [5, 1]}, figsize=(10,6))\n",
    "fig, ax = plt.subplots(figsize=(10,8))\n",
    "\n",
    "nice_date = [x.strftime('%B %d') for x in cma_df.columns.values]\n",
    "\n",
    "im, cbar = heatmap(cma_df.values, cma_df.index.values, nice_date, ax=ax,\n",
    "                   cmap=\"magma_r\", cbarlabel=\"# of distinct intervention categories\")\n",
    "texts = annotate_heatmap(im, valfmt=\"{x:.0f}\")\n",
    "\n",
    "fig.tight_layout()\n",
    "plt.savefig('figure4/figure4.png', dpi=300)"
   ]
  },
  {
   "cell_type": "code",
   "execution_count": null,
   "metadata": {},
   "outputs": [],
   "source": []
  }
 ],
 "metadata": {
  "kernelspec": {
   "display_name": "Python 3",
   "language": "python",
   "name": "python3"
  },
  "language_info": {
   "codemirror_mode": {
    "name": "ipython",
    "version": 3
   },
   "file_extension": ".py",
   "mimetype": "text/x-python",
   "name": "python",
   "nbconvert_exporter": "python",
   "pygments_lexer": "ipython3",
   "version": "3.6.3"
  }
 },
 "nbformat": 4,
 "nbformat_minor": 2
}
