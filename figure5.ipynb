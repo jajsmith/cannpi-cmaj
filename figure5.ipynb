{
  "nbformat": 4,
  "nbformat_minor": 0,
  "metadata": {
    "colab": {
      "name": "figure5.ipynb",
      "provenance": [],
      "collapsed_sections": [],
      "toc_visible": true
    },
    "kernelspec": {
      "name": "python3",
      "display_name": "Python 3"
    }
  },
  "cells": [
    {
      "cell_type": "markdown",
      "metadata": {
        "id": "BbnDWDwJNjuH",
        "colab_type": "text"
      },
      "source": [
        "## Set up\n"
      ]
    },
    {
      "cell_type": "code",
      "metadata": {
        "id": "uXP56oPwEpC6",
        "colab_type": "code",
        "outputId": "ccd05b22-c5bf-44f7-8ba6-e9845219c7c5",
        "colab": {
          "base_uri": "https://localhost:8080/",
          "height": 227
        }
      },
      "source": [
        "!wget https://raw.githubusercontent.com/jajsmith/cannpi-cmaj/develop/data/npi_canada_apr19.csv"
      ],
      "execution_count": 21,
      "outputs": [
        {
          "output_type": "stream",
          "text": [
            "--2020-06-15 02:49:04--  https://raw.githubusercontent.com/jajsmith/cannpi-cmaj/develop/data/npi_canada_apr19.csv\n",
            "Resolving raw.githubusercontent.com (raw.githubusercontent.com)... 151.101.0.133, 151.101.64.133, 151.101.128.133, ...\n",
            "Connecting to raw.githubusercontent.com (raw.githubusercontent.com)|151.101.0.133|:443... connected.\n",
            "HTTP request sent, awaiting response... 200 OK\n",
            "Length: 9503275 (9.1M) [text/plain]\n",
            "Saving to: ‘npi_canada_apr19.csv.1’\n",
            "\n",
            "npi_canada_apr19.cs 100%[===================>]   9.06M  37.6MB/s    in 0.2s    \n",
            "\n",
            "2020-06-15 02:49:05 (37.6 MB/s) - ‘npi_canada_apr19.csv.1’ saved [9503275/9503275]\n",
            "\n"
          ],
          "name": "stdout"
        }
      ]
    },
    {
      "cell_type": "markdown",
      "metadata": {
        "id": "hj3MiLpkN5YF",
        "colab_type": "text"
      },
      "source": [
        "### Load Data"
      ]
    },
    {
      "cell_type": "code",
      "metadata": {
        "id": "HGLQCThjOf1b",
        "colab_type": "code",
        "outputId": "3f6346eb-9d18-4df8-aba8-097033933b0e",
        "colab": {
          "base_uri": "https://localhost:8080/",
          "height": 69
        }
      },
      "source": [
        "import pandas as pd\n",
        "from datetime import datetime, date, timedelta\n",
        "import numpy as np\n",
        "\n",
        "# get NPI data\n",
        "npis_csv = \"/content/npi_canada_apr19.csv\"\n",
        "raw_data = pd.read_csv(npis_csv)\n",
        "\n",
        "# remove any rows that don't have a start_date, region, or intervention_category\n",
        "df = raw_data.dropna(how='any', subset=['start_date', 'region', 'intervention_category'])\n",
        "df['region'] = df['region'].replace('Newfoundland', 'Newfoundland and Labrador')\n",
        "num_rows_removed = len(raw_data)-len(df)\n",
        "print(\"Number of rows removed: {}\".format(num_rows_removed))\n",
        "\n",
        "# get all regions\n",
        "regions = list(set(df.region.values))\n",
        "print(\"Number of unique regions: {}\".format(len(regions)))\n",
        "\n",
        "# get all intervention categories\n",
        "num_cats = list(set(df.intervention_category.values))\n",
        "num_interventions = len(num_cats)\n",
        "print(\"Number of unique intervention categories: {}\".format(len(num_cats)))"
      ],
      "execution_count": 22,
      "outputs": [
        {
          "output_type": "stream",
          "text": [
            "Number of rows removed: 60\n",
            "Number of unique regions: 14\n",
            "Number of unique intervention categories: 62\n"
          ],
          "name": "stdout"
        }
      ]
    },
    {
      "cell_type": "markdown",
      "metadata": {
        "id": "kqnWH_IqQvU9",
        "colab_type": "text"
      },
      "source": [
        "### Grab only Public event restrictions\n"
      ]
    },
    {
      "cell_type": "code",
      "metadata": {
        "id": "vp01m1_RQ42H",
        "colab_type": "code",
        "colab": {}
      },
      "source": [
        "# per = public event restrictions\n",
        "per_cats = [\"Public event size restriction (<=250)\", \"Public event size restriction (<=50)\", \"Public event size restriction (<=25)\", \"Public event size restriction (<=10)\", \"Public event size restriction (<=5)\", \"Public event size restriction (<=2)\"]\n",
        "data = []\n",
        "coi = [\"start_date\", \"region\", \"subregion\",\"intervention_category\"]\n",
        "# grabbing only public event restrictions and columns in coi\n",
        "for index, row in df.iterrows():\n",
        "  if row.intervention_category in per_cats and str(row.subregion) != 'nan':\n",
        "    l = []\n",
        "    for col in coi:\n",
        "      l.append(row[col])\n",
        "    data.append(l)\n",
        "\n",
        "df_per_only = pd.DataFrame(data, columns=coi)\n",
        "# sorting by start_date\n",
        "df_per_only.sort_values(\"start_date\", inplace = True) \n",
        "# dropping ALL duplicate values \n",
        "df_per_only.drop_duplicates(subset =[\"start_date\", \"region\", \"subregion\", \"intervention_category\"], \n",
        "                     keep = False, inplace = True) \n",
        "\n",
        "# add max_event_size\n",
        "df_per_only[\"max_event_size\"] = 0\n",
        "for index, row in df_per_only.iterrows():\n",
        "  extract_size = int(row.intervention_category.strip(\"Public event size restriction (<=\").strip(\")\"))\n",
        "  df_per_only.at[index, \"max_event_size\"] = extract_size\n",
        "\n",
        "# output the table to csv\n",
        "df_per_only.to_csv('figure5_table.csv')"
      ],
      "execution_count": 0,
      "outputs": []
    },
    {
      "cell_type": "markdown",
      "metadata": {
        "id": "yc6IeLyfIl5r",
        "colab_type": "text"
      },
      "source": [
        "## Visualize "
      ]
    },
    {
      "cell_type": "code",
      "metadata": {
        "id": "vYaCatMeTBM9",
        "colab_type": "code",
        "outputId": "e3a83e68-a944-40d3-f157-3805afbc8acf",
        "colab": {
          "base_uri": "https://localhost:8080/",
          "height": 737
        }
      },
      "source": [
        "from plotly.subplots import make_subplots\n",
        "import plotly.graph_objects as go\n",
        "import plotly.figure_factory as ff\n",
        "import matplotlib\n",
        "from plotly.offline import init_notebook_mode, plot_mpl\n",
        "import matplotlib.pyplot as plt\n",
        "\n",
        "def visualize(full_df, per_only_df):\n",
        "    # Create figure with secondary y-axis\n",
        "    fig = make_subplots(specs=[[{\"secondary_y\": True}]])\n",
        "    # add vertical lines\n",
        "    fig.add_trace(go.Scatter(\n",
        "      x=['2020-04-07', '2020-04-07',  '2020-04-07'],\n",
        "      y=[255, 55, 15, 5],\n",
        "      text=[\"Max = 250 people\",\n",
        "            \"Max = 50 people\",\n",
        "            \"Max = 10 people\"],\n",
        "            mode=\"text\",\n",
        "    ))\n",
        "\n",
        "    # assign each subregion a color\n",
        "    palette_colors = [\"#8B2423\", \"#BA5441\", \"#D19AA9\", \"#DBBAF9\", \"#D5B74C\", \"#CACD5D\", \"#E1E79F\", \"#74CCC9\", \"#117A72\", \"#365434\", \"#0C2A66\", \"#664CA5\", \"#5552BD\", \"#9B80A3\", \"#58303E\", \"#9B417B\"]\n",
        "    i = 0\n",
        "    colors = {}\n",
        "    for sr in np.unique(per_only_df[\"subregion\"].values):\n",
        "      colors[sr] = palette_colors[i]\n",
        "      i+=1 \n",
        "    \n",
        "    # add jitter to fix overlapping points\n",
        "    i = 0\n",
        "    prev_visited = []\n",
        "    JITTER_NUM = 5\n",
        "    for sr in np.unique(per_only_df[\"subregion\"].values):\n",
        "      subregion_only = per_only_df.loc[per_only_df['subregion'] == sr]\n",
        "      # add jitter\n",
        "      for sindex, srow in subregion_only.iterrows():\n",
        "        x = srow['start_date']\n",
        "        y = float(srow['max_event_size'])\n",
        "        # if already seen, add to y value\n",
        "        while (x,y) in prev_visited:\n",
        "          y += JITTER_NUM\n",
        "        subregion_only.loc[sindex, 'max_event_size'] = y\n",
        "        prev_visited.append((x,y))\n",
        "\n",
        "      # plot!\n",
        "      fig.add_trace(go.Scatter( \n",
        "        x=subregion_only['start_date'],\n",
        "        y=subregion_only['max_event_size'],\n",
        "        mode=\"markers+lines\",\n",
        "        name=sr,\n",
        "        #hovertemplate ='<i>'+sr + '</i>',\n",
        "        line = dict(shape=\"hv\"),\n",
        "        marker=dict(\n",
        "            #color=colors[sr],\n",
        "            #symbol = symbols[0],\n",
        "            color=colors[sr],\n",
        "            size=15,\n",
        "            opacity=0.85,\n",
        "            line=dict(\n",
        "                #olor=colors[sr],\n",
        "                width=2\n",
        "            )\n",
        "          ),\n",
        "        ),\n",
        "        secondary_y=False\n",
        "      )\n",
        "      i+=1\n",
        "\n",
        "    fig.update_layout(autosize=False, width=1200, height=700,\n",
        "        titlefont_size=20,\n",
        "        xaxis_tickfont_size=14,\n",
        "        yaxis=dict(\n",
        "            title='Public event size restriction <br> (Max. number of people)',\n",
        "            titlefont_size=16,\n",
        "            tickfont_size=14,\n",
        "        ),\n",
        "        xaxis=dict(\n",
        "            title='Date',\n",
        "            titlefont_size=16,\n",
        "            tickfont_size=14,\n",
        "        ),\n",
        "        template='plotly_white',\n",
        "       shapes=[\n",
        "        dict(\n",
        "          type= 'line',\n",
        "          opacity=0.5,\n",
        "          yref= 'y1', y0= 250, y1= 250,\n",
        "          xref= 'x1', x0= \"2020-03-11\", x1= \"2020-04-09\",\n",
        "          line=dict(\n",
        "                width=1.5,\n",
        "                color=\"#CCCCCC\"\n",
        "            )\n",
        "        ),\n",
        "         dict(\n",
        "          type= 'line',\n",
        "          yref= 'y1', y0= 50, y1= 50,\n",
        "          xref= 'x1', x0= \"2020-03-11\", x1= \"2020-04-09\",\n",
        "          opacity=0.5,\n",
        "          line=dict(\n",
        "                width=1.5,\n",
        "                color=\"#CCCCCC\"\n",
        "            )\n",
        "         ),\n",
        "         dict(\n",
        "          type= 'line',\n",
        "          yref= 'y1', y0= 10, y1= 10,\n",
        "          xref= 'x1', x0= \"2020-03-11\", x1= \"2020-04-09\",\n",
        "          opacity=0.5,\n",
        "          line=dict(\n",
        "                width=1.5,\n",
        "                color=\"#CCCCCC\"\n",
        "            )\n",
        "         ),\n",
        "        ]\n",
        "    )\n",
        "\n",
        "    fig.show()\n",
        "visualize(df, df_per_only)"
      ],
      "execution_count": 24,
      "outputs": [
        {
          "output_type": "display_data",
          "data": {
            "text/html": [
              "<html>\n",
              "<head><meta charset=\"utf-8\" /></head>\n",
              "<body>\n",
              "    <div>\n",
              "            <script src=\"https://cdnjs.cloudflare.com/ajax/libs/mathjax/2.7.5/MathJax.js?config=TeX-AMS-MML_SVG\"></script><script type=\"text/javascript\">if (window.MathJax) {MathJax.Hub.Config({SVG: {font: \"STIX-Web\"}});}</script>\n",
              "                <script type=\"text/javascript\">window.PlotlyConfig = {MathJaxConfig: 'local'};</script>\n",
              "        <script src=\"https://cdn.plot.ly/plotly-latest.min.js\"></script>    \n",
              "            <div id=\"a25ef97e-98ab-41f3-b5a2-632f328d15e9\" class=\"plotly-graph-div\" style=\"height:700px; width:1200px;\"></div>\n",
              "            <script type=\"text/javascript\">\n",
              "                \n",
              "                    window.PLOTLYENV=window.PLOTLYENV || {};\n",
              "                    \n",
              "                if (document.getElementById(\"a25ef97e-98ab-41f3-b5a2-632f328d15e9\")) {\n",
              "                    Plotly.newPlot(\n",
              "                        'a25ef97e-98ab-41f3-b5a2-632f328d15e9',\n",
              "                        [{\"mode\": \"text\", \"text\": [\"Max = 250 people\", \"Max = 50 people\", \"Max = 10 people\"], \"type\": \"scatter\", \"x\": [\"2020-04-07\", \"2020-04-07\", \"2020-04-07\"], \"y\": [255, 55, 15, 5]}, {\"line\": {\"shape\": \"hv\"}, \"marker\": {\"color\": \"#8B2423\", \"line\": {\"width\": 2}, \"opacity\": 0.85, \"size\": 15}, \"mode\": \"markers+lines\", \"name\": \"Gatineau\", \"type\": \"scatter\", \"x\": [\"2020-03-13\"], \"xaxis\": \"x\", \"y\": [250.0], \"yaxis\": \"y\"}, {\"line\": {\"shape\": \"hv\"}, \"marker\": {\"color\": \"#BA5441\", \"line\": {\"width\": 2}, \"opacity\": 0.85, \"size\": 15}, \"mode\": \"markers+lines\", \"name\": \"Hamilton\", \"type\": \"scatter\", \"x\": [\"2020-03-13\", \"2020-03-30\"], \"xaxis\": \"x\", \"y\": [255.0, 5.0], \"yaxis\": \"y\"}, {\"line\": {\"shape\": \"hv\"}, \"marker\": {\"color\": \"#D19AA9\", \"line\": {\"width\": 2}, \"opacity\": 0.85, \"size\": 15}, \"mode\": \"markers+lines\", \"name\": \"Kelowna\", \"type\": \"scatter\", \"x\": [\"2020-03-16\"], \"xaxis\": \"x\", \"y\": [50.0], \"yaxis\": \"y\"}, {\"line\": {\"shape\": \"hv\"}, \"marker\": {\"color\": \"#DBBAF9\", \"line\": {\"width\": 2}, \"opacity\": 0.85, \"size\": 15}, \"mode\": \"markers+lines\", \"name\": \"Kitchener-Waterloo\", \"type\": \"scatter\", \"x\": [\"2020-03-13\", \"2020-03-17\"], \"xaxis\": \"x\", \"y\": [260.0, 50.0], \"yaxis\": \"y\"}, {\"line\": {\"shape\": \"hv\"}, \"marker\": {\"color\": \"#D5B74C\", \"line\": {\"width\": 2}, \"opacity\": 0.85, \"size\": 15}, \"mode\": \"markers+lines\", \"name\": \"London\", \"type\": \"scatter\", \"x\": [\"2020-04-08\"], \"xaxis\": \"x\", \"y\": [5.0], \"yaxis\": \"y\"}, {\"line\": {\"shape\": \"hv\"}, \"marker\": {\"color\": \"#CACD5D\", \"line\": {\"width\": 2}, \"opacity\": 0.85, \"size\": 15}, \"mode\": \"markers+lines\", \"name\": \"Montreal\", \"type\": \"scatter\", \"x\": [\"2020-03-22\"], \"xaxis\": \"x\", \"y\": [2.0], \"yaxis\": \"y\"}, {\"line\": {\"shape\": \"hv\"}, \"marker\": {\"color\": \"#E1E79F\", \"line\": {\"width\": 2}, \"opacity\": 0.85, \"size\": 15}, \"mode\": \"markers+lines\", \"name\": \"Niagara\", \"type\": \"scatter\", \"x\": [\"2020-03-17\", \"2020-04-03\"], \"xaxis\": \"x\", \"y\": [55.0, 5.0], \"yaxis\": \"y\"}, {\"line\": {\"shape\": \"hv\"}, \"marker\": {\"color\": \"#74CCC9\", \"line\": {\"width\": 2}, \"opacity\": 0.85, \"size\": 15}, \"mode\": \"markers+lines\", \"name\": \"Ottawa\", \"type\": \"scatter\", \"x\": [\"2020-03-30\"], \"xaxis\": \"x\", \"y\": [10.0], \"yaxis\": \"y\"}, {\"line\": {\"shape\": \"hv\"}, \"marker\": {\"color\": \"#117A72\", \"line\": {\"width\": 2}, \"opacity\": 0.85, \"size\": 15}, \"mode\": \"markers+lines\", \"name\": \"Quebec City\", \"type\": \"scatter\", \"x\": [\"2020-03-13\"], \"xaxis\": \"x\", \"y\": [265.0], \"yaxis\": \"y\"}, {\"line\": {\"shape\": \"hv\"}, \"marker\": {\"color\": \"#365434\", \"line\": {\"width\": 2}, \"opacity\": 0.85, \"size\": 15}, \"mode\": \"markers+lines\", \"name\": \"Regina\", \"type\": \"scatter\", \"x\": [\"2020-03-20\"], \"xaxis\": \"x\", \"y\": [5.0], \"yaxis\": \"y\"}, {\"line\": {\"shape\": \"hv\"}, \"marker\": {\"color\": \"#0C2A66\", \"line\": {\"width\": 2}, \"opacity\": 0.85, \"size\": 15}, \"mode\": \"markers+lines\", \"name\": \"Saskatoon\", \"type\": \"scatter\", \"x\": [\"2020-03-20\", \"2020-03-26\"], \"xaxis\": \"x\", \"y\": [25.0, 10.0], \"yaxis\": \"y\"}, {\"line\": {\"shape\": \"hv\"}, \"marker\": {\"color\": \"#664CA5\", \"line\": {\"width\": 2}, \"opacity\": 0.85, \"size\": 15}, \"mode\": \"markers+lines\", \"name\": \"Toronto\", \"type\": \"scatter\", \"x\": [\"2020-03-12\", \"2020-03-31\"], \"xaxis\": \"x\", \"y\": [250.0, 5.0], \"yaxis\": \"y\"}, {\"line\": {\"shape\": \"hv\"}, \"marker\": {\"color\": \"#5552BD\", \"line\": {\"width\": 2}, \"opacity\": 0.85, \"size\": 15}, \"mode\": \"markers+lines\", \"name\": \"Vancouver\", \"type\": \"scatter\", \"x\": [\"2020-03-12\"], \"xaxis\": \"x\", \"y\": [255.0], \"yaxis\": \"y\"}, {\"line\": {\"shape\": \"hv\"}, \"marker\": {\"color\": \"#9B80A3\", \"line\": {\"width\": 2}, \"opacity\": 0.85, \"size\": 15}, \"mode\": \"markers+lines\", \"name\": \"Victoria\", \"type\": \"scatter\", \"x\": [\"2020-03-16\"], \"xaxis\": \"x\", \"y\": [55.0], \"yaxis\": \"y\"}, {\"line\": {\"shape\": \"hv\"}, \"marker\": {\"color\": \"#58303E\", \"line\": {\"width\": 2}, \"opacity\": 0.85, \"size\": 15}, \"mode\": \"markers+lines\", \"name\": \"Windsor\", \"type\": \"scatter\", \"x\": [\"2020-03-14\", \"2020-03-16\", \"2020-03-29\"], \"xaxis\": \"x\", \"y\": [250.0, 60.0, 5.0], \"yaxis\": \"y\"}, {\"line\": {\"shape\": \"hv\"}, \"marker\": {\"color\": \"#9B417B\", \"line\": {\"width\": 2}, \"opacity\": 0.85, \"size\": 15}, \"mode\": \"markers+lines\", \"name\": \"Winnipeg\", \"type\": \"scatter\", \"x\": [\"2020-03-27\"], \"xaxis\": \"x\", \"y\": [10.0], \"yaxis\": \"y\"}],\n",
              "                        {\"autosize\": false, \"height\": 700, \"shapes\": [{\"line\": {\"color\": \"#CCCCCC\", \"width\": 1.5}, \"opacity\": 0.5, \"type\": \"line\", \"x0\": \"2020-03-11\", \"x1\": \"2020-04-09\", \"xref\": \"x\", \"y0\": 250, \"y1\": 250, \"yref\": \"y\"}, {\"line\": {\"color\": \"#CCCCCC\", \"width\": 1.5}, \"opacity\": 0.5, \"type\": \"line\", \"x0\": \"2020-03-11\", \"x1\": \"2020-04-09\", \"xref\": \"x\", \"y0\": 50, \"y1\": 50, \"yref\": \"y\"}, {\"line\": {\"color\": \"#CCCCCC\", \"width\": 1.5}, \"opacity\": 0.5, \"type\": \"line\", \"x0\": \"2020-03-11\", \"x1\": \"2020-04-09\", \"xref\": \"x\", \"y0\": 10, \"y1\": 10, \"yref\": \"y\"}], \"template\": {\"data\": {\"bar\": [{\"error_x\": {\"color\": \"#2a3f5f\"}, \"error_y\": {\"color\": \"#2a3f5f\"}, \"marker\": {\"line\": {\"color\": \"white\", \"width\": 0.5}}, \"type\": \"bar\"}], \"barpolar\": [{\"marker\": {\"line\": {\"color\": \"white\", \"width\": 0.5}}, \"type\": \"barpolar\"}], \"carpet\": [{\"aaxis\": {\"endlinecolor\": \"#2a3f5f\", \"gridcolor\": \"#C8D4E3\", \"linecolor\": \"#C8D4E3\", \"minorgridcolor\": \"#C8D4E3\", \"startlinecolor\": \"#2a3f5f\"}, \"baxis\": {\"endlinecolor\": \"#2a3f5f\", \"gridcolor\": \"#C8D4E3\", \"linecolor\": \"#C8D4E3\", \"minorgridcolor\": \"#C8D4E3\", \"startlinecolor\": \"#2a3f5f\"}, \"type\": \"carpet\"}], \"choropleth\": [{\"colorbar\": {\"outlinewidth\": 0, \"ticks\": \"\"}, \"type\": \"choropleth\"}], \"contour\": [{\"colorbar\": {\"outlinewidth\": 0, \"ticks\": \"\"}, \"colorscale\": [[0.0, \"#0d0887\"], [0.1111111111111111, \"#46039f\"], [0.2222222222222222, \"#7201a8\"], [0.3333333333333333, \"#9c179e\"], [0.4444444444444444, \"#bd3786\"], [0.5555555555555556, \"#d8576b\"], [0.6666666666666666, \"#ed7953\"], [0.7777777777777778, \"#fb9f3a\"], [0.8888888888888888, \"#fdca26\"], [1.0, \"#f0f921\"]], \"type\": \"contour\"}], \"contourcarpet\": [{\"colorbar\": {\"outlinewidth\": 0, \"ticks\": \"\"}, \"type\": \"contourcarpet\"}], \"heatmap\": [{\"colorbar\": {\"outlinewidth\": 0, \"ticks\": \"\"}, \"colorscale\": [[0.0, \"#0d0887\"], [0.1111111111111111, \"#46039f\"], [0.2222222222222222, \"#7201a8\"], [0.3333333333333333, \"#9c179e\"], [0.4444444444444444, \"#bd3786\"], [0.5555555555555556, \"#d8576b\"], [0.6666666666666666, \"#ed7953\"], [0.7777777777777778, \"#fb9f3a\"], [0.8888888888888888, \"#fdca26\"], [1.0, \"#f0f921\"]], \"type\": \"heatmap\"}], \"heatmapgl\": [{\"colorbar\": {\"outlinewidth\": 0, \"ticks\": \"\"}, \"colorscale\": [[0.0, \"#0d0887\"], [0.1111111111111111, \"#46039f\"], [0.2222222222222222, \"#7201a8\"], [0.3333333333333333, \"#9c179e\"], [0.4444444444444444, \"#bd3786\"], [0.5555555555555556, \"#d8576b\"], [0.6666666666666666, \"#ed7953\"], [0.7777777777777778, \"#fb9f3a\"], [0.8888888888888888, \"#fdca26\"], [1.0, \"#f0f921\"]], \"type\": \"heatmapgl\"}], \"histogram\": [{\"marker\": {\"colorbar\": {\"outlinewidth\": 0, \"ticks\": \"\"}}, \"type\": \"histogram\"}], \"histogram2d\": [{\"colorbar\": {\"outlinewidth\": 0, \"ticks\": \"\"}, \"colorscale\": [[0.0, \"#0d0887\"], [0.1111111111111111, \"#46039f\"], [0.2222222222222222, \"#7201a8\"], [0.3333333333333333, \"#9c179e\"], [0.4444444444444444, \"#bd3786\"], [0.5555555555555556, \"#d8576b\"], [0.6666666666666666, \"#ed7953\"], [0.7777777777777778, \"#fb9f3a\"], [0.8888888888888888, \"#fdca26\"], [1.0, \"#f0f921\"]], \"type\": \"histogram2d\"}], \"histogram2dcontour\": [{\"colorbar\": {\"outlinewidth\": 0, \"ticks\": \"\"}, \"colorscale\": [[0.0, \"#0d0887\"], [0.1111111111111111, \"#46039f\"], [0.2222222222222222, \"#7201a8\"], [0.3333333333333333, \"#9c179e\"], [0.4444444444444444, \"#bd3786\"], [0.5555555555555556, \"#d8576b\"], [0.6666666666666666, \"#ed7953\"], [0.7777777777777778, \"#fb9f3a\"], [0.8888888888888888, \"#fdca26\"], [1.0, \"#f0f921\"]], \"type\": \"histogram2dcontour\"}], \"mesh3d\": [{\"colorbar\": {\"outlinewidth\": 0, \"ticks\": \"\"}, \"type\": \"mesh3d\"}], \"parcoords\": [{\"line\": {\"colorbar\": {\"outlinewidth\": 0, \"ticks\": \"\"}}, \"type\": \"parcoords\"}], \"pie\": [{\"automargin\": true, \"type\": \"pie\"}], \"scatter\": [{\"marker\": {\"colorbar\": {\"outlinewidth\": 0, \"ticks\": \"\"}}, \"type\": \"scatter\"}], \"scatter3d\": [{\"line\": {\"colorbar\": {\"outlinewidth\": 0, \"ticks\": \"\"}}, \"marker\": {\"colorbar\": {\"outlinewidth\": 0, \"ticks\": \"\"}}, \"type\": \"scatter3d\"}], \"scattercarpet\": [{\"marker\": {\"colorbar\": {\"outlinewidth\": 0, \"ticks\": \"\"}}, \"type\": \"scattercarpet\"}], \"scattergeo\": [{\"marker\": {\"colorbar\": {\"outlinewidth\": 0, \"ticks\": \"\"}}, \"type\": \"scattergeo\"}], \"scattergl\": [{\"marker\": {\"colorbar\": {\"outlinewidth\": 0, \"ticks\": \"\"}}, \"type\": \"scattergl\"}], \"scattermapbox\": [{\"marker\": {\"colorbar\": {\"outlinewidth\": 0, \"ticks\": \"\"}}, \"type\": \"scattermapbox\"}], \"scatterpolar\": [{\"marker\": {\"colorbar\": {\"outlinewidth\": 0, \"ticks\": \"\"}}, \"type\": \"scatterpolar\"}], \"scatterpolargl\": [{\"marker\": {\"colorbar\": {\"outlinewidth\": 0, \"ticks\": \"\"}}, \"type\": \"scatterpolargl\"}], \"scatterternary\": [{\"marker\": {\"colorbar\": {\"outlinewidth\": 0, \"ticks\": \"\"}}, \"type\": \"scatterternary\"}], \"surface\": [{\"colorbar\": {\"outlinewidth\": 0, \"ticks\": \"\"}, \"colorscale\": [[0.0, \"#0d0887\"], [0.1111111111111111, \"#46039f\"], [0.2222222222222222, \"#7201a8\"], [0.3333333333333333, \"#9c179e\"], [0.4444444444444444, \"#bd3786\"], [0.5555555555555556, \"#d8576b\"], [0.6666666666666666, \"#ed7953\"], [0.7777777777777778, \"#fb9f3a\"], [0.8888888888888888, \"#fdca26\"], [1.0, \"#f0f921\"]], \"type\": \"surface\"}], \"table\": [{\"cells\": {\"fill\": {\"color\": \"#EBF0F8\"}, \"line\": {\"color\": \"white\"}}, \"header\": {\"fill\": {\"color\": \"#C8D4E3\"}, \"line\": {\"color\": \"white\"}}, \"type\": \"table\"}]}, \"layout\": {\"annotationdefaults\": {\"arrowcolor\": \"#2a3f5f\", \"arrowhead\": 0, \"arrowwidth\": 1}, \"coloraxis\": {\"colorbar\": {\"outlinewidth\": 0, \"ticks\": \"\"}}, \"colorscale\": {\"diverging\": [[0, \"#8e0152\"], [0.1, \"#c51b7d\"], [0.2, \"#de77ae\"], [0.3, \"#f1b6da\"], [0.4, \"#fde0ef\"], [0.5, \"#f7f7f7\"], [0.6, \"#e6f5d0\"], [0.7, \"#b8e186\"], [0.8, \"#7fbc41\"], [0.9, \"#4d9221\"], [1, \"#276419\"]], \"sequential\": [[0.0, \"#0d0887\"], [0.1111111111111111, \"#46039f\"], [0.2222222222222222, \"#7201a8\"], [0.3333333333333333, \"#9c179e\"], [0.4444444444444444, \"#bd3786\"], [0.5555555555555556, \"#d8576b\"], [0.6666666666666666, \"#ed7953\"], [0.7777777777777778, \"#fb9f3a\"], [0.8888888888888888, \"#fdca26\"], [1.0, \"#f0f921\"]], \"sequentialminus\": [[0.0, \"#0d0887\"], [0.1111111111111111, \"#46039f\"], [0.2222222222222222, \"#7201a8\"], [0.3333333333333333, \"#9c179e\"], [0.4444444444444444, \"#bd3786\"], [0.5555555555555556, \"#d8576b\"], [0.6666666666666666, \"#ed7953\"], [0.7777777777777778, \"#fb9f3a\"], [0.8888888888888888, \"#fdca26\"], [1.0, \"#f0f921\"]]}, \"colorway\": [\"#636efa\", \"#EF553B\", \"#00cc96\", \"#ab63fa\", \"#FFA15A\", \"#19d3f3\", \"#FF6692\", \"#B6E880\", \"#FF97FF\", \"#FECB52\"], \"font\": {\"color\": \"#2a3f5f\"}, \"geo\": {\"bgcolor\": \"white\", \"lakecolor\": \"white\", \"landcolor\": \"white\", \"showlakes\": true, \"showland\": true, \"subunitcolor\": \"#C8D4E3\"}, \"hoverlabel\": {\"align\": \"left\"}, \"hovermode\": \"closest\", \"mapbox\": {\"style\": \"light\"}, \"paper_bgcolor\": \"white\", \"plot_bgcolor\": \"white\", \"polar\": {\"angularaxis\": {\"gridcolor\": \"#EBF0F8\", \"linecolor\": \"#EBF0F8\", \"ticks\": \"\"}, \"bgcolor\": \"white\", \"radialaxis\": {\"gridcolor\": \"#EBF0F8\", \"linecolor\": \"#EBF0F8\", \"ticks\": \"\"}}, \"scene\": {\"xaxis\": {\"backgroundcolor\": \"white\", \"gridcolor\": \"#DFE8F3\", \"gridwidth\": 2, \"linecolor\": \"#EBF0F8\", \"showbackground\": true, \"ticks\": \"\", \"zerolinecolor\": \"#EBF0F8\"}, \"yaxis\": {\"backgroundcolor\": \"white\", \"gridcolor\": \"#DFE8F3\", \"gridwidth\": 2, \"linecolor\": \"#EBF0F8\", \"showbackground\": true, \"ticks\": \"\", \"zerolinecolor\": \"#EBF0F8\"}, \"zaxis\": {\"backgroundcolor\": \"white\", \"gridcolor\": \"#DFE8F3\", \"gridwidth\": 2, \"linecolor\": \"#EBF0F8\", \"showbackground\": true, \"ticks\": \"\", \"zerolinecolor\": \"#EBF0F8\"}}, \"shapedefaults\": {\"line\": {\"color\": \"#2a3f5f\"}}, \"ternary\": {\"aaxis\": {\"gridcolor\": \"#DFE8F3\", \"linecolor\": \"#A2B1C6\", \"ticks\": \"\"}, \"baxis\": {\"gridcolor\": \"#DFE8F3\", \"linecolor\": \"#A2B1C6\", \"ticks\": \"\"}, \"bgcolor\": \"white\", \"caxis\": {\"gridcolor\": \"#DFE8F3\", \"linecolor\": \"#A2B1C6\", \"ticks\": \"\"}}, \"title\": {\"x\": 0.05}, \"xaxis\": {\"automargin\": true, \"gridcolor\": \"#EBF0F8\", \"linecolor\": \"#EBF0F8\", \"ticks\": \"\", \"title\": {\"standoff\": 15}, \"zerolinecolor\": \"#EBF0F8\", \"zerolinewidth\": 2}, \"yaxis\": {\"automargin\": true, \"gridcolor\": \"#EBF0F8\", \"linecolor\": \"#EBF0F8\", \"ticks\": \"\", \"title\": {\"standoff\": 15}, \"zerolinecolor\": \"#EBF0F8\", \"zerolinewidth\": 2}}}, \"title\": {\"font\": {\"size\": 20}}, \"width\": 1200, \"xaxis\": {\"anchor\": \"y\", \"domain\": [0.0, 0.94], \"tickfont\": {\"size\": 14}, \"title\": {\"font\": {\"size\": 16}, \"text\": \"Date\"}}, \"yaxis\": {\"anchor\": \"x\", \"domain\": [0.0, 1.0], \"tickfont\": {\"size\": 14}, \"title\": {\"font\": {\"size\": 16}, \"text\": \"Public event size restriction <br> (Max. number of people)\"}}, \"yaxis2\": {\"anchor\": \"x\", \"overlaying\": \"y\", \"side\": \"right\"}},\n",
              "                        {\"responsive\": true}\n",
              "                    ).then(function(){\n",
              "                            \n",
              "var gd = document.getElementById('a25ef97e-98ab-41f3-b5a2-632f328d15e9');\n",
              "var x = new MutationObserver(function (mutations, observer) {{\n",
              "        var display = window.getComputedStyle(gd).display;\n",
              "        if (!display || display === 'none') {{\n",
              "            console.log([gd, 'removed!']);\n",
              "            Plotly.purge(gd);\n",
              "            observer.disconnect();\n",
              "        }}\n",
              "}});\n",
              "\n",
              "// Listen for the removal of the full notebook cells\n",
              "var notebookContainer = gd.closest('#notebook-container');\n",
              "if (notebookContainer) {{\n",
              "    x.observe(notebookContainer, {childList: true});\n",
              "}}\n",
              "\n",
              "// Listen for the clearing of the current output cell\n",
              "var outputEl = gd.closest('.output');\n",
              "if (outputEl) {{\n",
              "    x.observe(outputEl, {childList: true});\n",
              "}}\n",
              "\n",
              "                        })\n",
              "                };\n",
              "                \n",
              "            </script>\n",
              "        </div>\n",
              "</body>\n",
              "</html>"
            ]
          },
          "metadata": {
            "tags": []
          }
        }
      ]
    }
  ]
}
